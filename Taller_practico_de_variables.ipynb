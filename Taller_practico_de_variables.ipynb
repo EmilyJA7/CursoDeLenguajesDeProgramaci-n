{
  "nbformat": 4,
  "nbformat_minor": 0,
  "metadata": {
    "colab": {
      "provenance": [],
      "include_colab_link": true
    },
    "kernelspec": {
      "name": "python3",
      "display_name": "Python 3"
    },
    "language_info": {
      "name": "python"
    }
  },
  "cells": [
    {
      "cell_type": "markdown",
      "metadata": {
        "id": "view-in-github",
        "colab_type": "text"
      },
      "source": [
        "<a href=\"https://colab.research.google.com/github/EmilyJA7/CursoDeLenguajesDeProgramaci-n/blob/main/Taller_practico_de_variables.ipynb\" target=\"_parent\"><img src=\"https://colab.research.google.com/assets/colab-badge.svg\" alt=\"Open In Colab\"/></a>"
      ]
    },
    {
      "cell_type": "markdown",
      "source": [
        "### Taller Práctico: Variables en Python para Ingeniería Financiera\n",
        "\n",
        "# Introducción\n",
        "# En este taller, aprenderás a utilizar diferentes tipos de variables en Python\n",
        "# a través de ejercicios prácticos aplicados a escenarios financieros."
      ],
      "metadata": {
        "id": "Bo6nh2CyULcw"
      }
    },
    {
      "cell_type": "code",
      "source": [
        "# Ejercicio 1: Variables tipo string\n",
        "# Contexto: Un banco necesita almacenar el nombre de sus clientes. almacena 5 clientes en 5 variables diferentes\n"
      ],
      "metadata": {
        "id": "5jA7bjhcXcWI"
      },
      "execution_count": null,
      "outputs": []
    },
    {
      "cell_type": "code",
      "source": [
        "#Ingrese codigo aquí\n",
        "cliente1= \"Carlos Blanco\"\n",
        "cliente2= \"Andrés Perez\"\n",
        "cliente3= \"Mariana Valencia\"\n",
        "cliente4= \"Martín Huertas\"\n",
        "cliente5= \"fabiana Solér\"\n",
        "print(cliente1)\n",
        "print(cliente2)\n",
        "print(cliente3)\n",
        "print(cliente4)\n",
        "print(cliente5)"
      ],
      "metadata": {
        "id": "jA7Qhj2tXwBN",
        "colab": {
          "base_uri": "https://localhost:8080/"
        },
        "outputId": "66b886b1-21d2-4bdd-8818-0815b1940d92"
      },
      "execution_count": 23,
      "outputs": [
        {
          "output_type": "stream",
          "name": "stdout",
          "text": [
            "Carlos Blanco\n",
            "Andrés Perez\n",
            "Mariana Valencia\n",
            "Martín Huertas\n",
            "fabiana Solér\n"
          ]
        }
      ]
    },
    {
      "cell_type": "code",
      "source": [
        "# Ejercicio 2: Concatenación de Strings\n",
        "# Contexto: Al generar reportes, el banco quiere mostrar el tipo de cuenta junto al nombre del cliente. realiza el ejercicio para las 5 variables\n"
      ],
      "metadata": {
        "id": "Sx7DMAgIX2xG"
      },
      "execution_count": null,
      "outputs": []
    },
    {
      "cell_type": "markdown",
      "source": [
        "Resultado"
      ],
      "metadata": {
        "id": "MgijW_JIX8Lu"
      }
    },
    {
      "cell_type": "code",
      "source": [
        "# Ingresa código aqui\n",
        "mensaje= \"mi tipo de cuenta es {}, mi nombre es {}\"\n",
        "tipo_de_cuenta1= \"Ahorros\"\n",
        "tipo_de_cuenta2= \"Corriente\"\n",
        "tipo_de_cuenta3= \"Ahorros\"\n",
        "tipo_de_cuenta4= \"credito\"\n",
        "tipo_de_cuenta5= \"corriente\""
      ],
      "metadata": {
        "id": "HjTub7W1X9c8"
      },
      "execution_count": 27,
      "outputs": []
    },
    {
      "cell_type": "code",
      "source": [
        "print(mensaje.format(tipo_de_cuenta1,cliente1))\n",
        "print(mensaje.format(tipo_de_cuenta2,cliente2))\n",
        "print(mensaje.format(tipo_de_cuenta3,cliente3))\n",
        "print(mensaje.format(tipo_de_cuenta4,cliente4))\n",
        "print(mensaje.format(tipo_de_cuenta5,cliente5))"
      ],
      "metadata": {
        "colab": {
          "base_uri": "https://localhost:8080/"
        },
        "id": "Z4samqtyvCQk",
        "outputId": "29910989-0423-4b39-bacd-6debe2ba4bbd"
      },
      "execution_count": 29,
      "outputs": [
        {
          "output_type": "stream",
          "name": "stdout",
          "text": [
            "mi tipo de cuenta es Ahorros, mi nombre es Carlos Blanco\n",
            "mi tipo de cuenta es Corriente, mi nombre es Andrés Perez\n",
            "mi tipo de cuenta es Ahorros, mi nombre es Mariana Valencia\n",
            "mi tipo de cuenta es credito, mi nombre es Martín Huertas\n",
            "mi tipo de cuenta es corrient, mi nombre es fabiana Solér\n"
          ]
        }
      ]
    },
    {
      "cell_type": "code",
      "source": [
        "# Ejercicio 4: Formateo de Variables\n",
        "# Contexto: Un banco necesita mostrar el saldo de un cliente con formato adecuado.\n"
      ],
      "metadata": {
        "id": "BC_aRDtOYKrb"
      },
      "execution_count": null,
      "outputs": []
    },
    {
      "cell_type": "markdown",
      "source": [
        "Resultado"
      ],
      "metadata": {
        "id": "swsBPuJ3YSej"
      }
    },
    {
      "cell_type": "code",
      "source": [
        "#Ingrese el código aquí\n",
        "saldo1= \"12.079.000\"\n",
        "saldo2= \"3.000.000\"\n",
        "saldo3= \"4.040.000\"\n",
        "saldo4= \"7.890.503\"\n",
        "saldo5= \"1.500.000\"\n",
        "print(f\"el saldo de la cuenta de {tipo_de_cuenta4} de {cliente4} es de {saldo4}\")\n"
      ],
      "metadata": {
        "id": "NPlztw_KYTzL",
        "colab": {
          "base_uri": "https://localhost:8080/"
        },
        "outputId": "d19abdde-2847-491b-cff2-dcbedd8f7b35"
      },
      "execution_count": 37,
      "outputs": [
        {
          "output_type": "stream",
          "name": "stdout",
          "text": [
            "el saldo de la cuenta de credito de Martín Huertas es de 7.890.503\n"
          ]
        }
      ]
    },
    {
      "cell_type": "code",
      "source": [
        "# Ejercicio 5: Entrada de Datos\n",
        "# Contexto: Un cliente ingresa su número de identificación para consultar su estado de cuenta. crea para cada cliente una variable de identificacion\n",
        "id_cliente = input(\"Ingrese su número de identificación: \")\n",
        "print(\"ID registrado:\", id_cliente)"
      ],
      "metadata": {
        "id": "I7yQTuYqYcIJ"
      },
      "execution_count": null,
      "outputs": []
    },
    {
      "cell_type": "markdown",
      "source": [
        "Resultado"
      ],
      "metadata": {
        "id": "7vzKHerGYgpt"
      }
    },
    {
      "cell_type": "code",
      "source": [
        "#inserte código aqui\n",
        "id_cliente1 =input(\"1.101.765.254\")\n",
        "id_cliente2 =input(\"64.578.109\")\n",
        "id_cliente3 =input(\"72.000.273\")\n",
        "id_cliente4 =input(\"28.871.397\")\n",
        "id_cliente5 =input(\"1.111.336.111\")\n",
        "print())"
      ],
      "metadata": {
        "id": "puoOr2v2Yhz5"
      },
      "execution_count": null,
      "outputs": []
    },
    {
      "cell_type": "code",
      "source": [
        "# Ejercicio 6: Variables Booleanas\n",
        "# Contexto: Validar si un cliente tiene derecho a un préstamo. crea tres ejercicios con variables booleanas\n",
        "ingresos_mensuales = 3000\n",
        "historial_crediticio = True\n",
        "es_aprobado = ingresos_mensuales > 2500 and historial_crediticio\n",
        "print(\"¿El cliente es aprobado para el préstamo?:\", es_aprobado)"
      ],
      "metadata": {
        "id": "_zpACyy_YzZ4"
      },
      "execution_count": null,
      "outputs": []
    }
  ]
}