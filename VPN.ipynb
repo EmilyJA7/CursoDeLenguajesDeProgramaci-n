{
  "nbformat": 4,
  "nbformat_minor": 0,
  "metadata": {
    "colab": {
      "provenance": [],
      "authorship_tag": "ABX9TyOJBvuASsc2QCpy8B2WY68P",
      "include_colab_link": true
    },
    "kernelspec": {
      "name": "python3",
      "display_name": "Python 3"
    },
    "language_info": {
      "name": "python"
    }
  },
  "cells": [
    {
      "cell_type": "markdown",
      "metadata": {
        "id": "view-in-github",
        "colab_type": "text"
      },
      "source": [
        "<a href=\"https://colab.research.google.com/github/EmilyJA7/CursoDeLenguajesDeProgramaci-n/blob/main/VPN.ipynb\" target=\"_parent\"><img src=\"https://colab.research.google.com/assets/colab-badge.svg\" alt=\"Open In Colab\"/></a>"
      ]
    },
    {
      "cell_type": "markdown",
      "source": [
        "# **Valor presente neto (VPN)**"
      ],
      "metadata": {
        "id": "Uo1RU0q0qLIW"
      }
    },
    {
      "cell_type": "markdown",
      "source": [
        "El valor presente neto o  VPN es una herramienta que permite determinar el valor actual de los flujos de caja futuros estimados en un proyecto, descontando una tasa que representa costos financieros, impuestos, entre otros conceptos, permitiendo traer al tiempo presente el valor neto de cada flujo proyectado para poder evaluar su rentabilidad al compararse con la inversión inicial."
      ],
      "metadata": {
        "id": "NghVRxEYrVVQ"
      }
    },
    {
      "cell_type": "markdown",
      "source": [
        "**¿cómo se calcula?**"
      ],
      "metadata": {
        "id": "Bz3g-T1Yrc3C"
      }
    },
    {
      "cell_type": "markdown",
      "source": [
        "El valor presente neto se calcula como la diferencia entre el valor actual de los flujos de efectivo futuros esperados de una inversión y el costo inicial de la inversión. Es decir, el VPN permite conocer si el valor actual de los ingresos generados por un proyecto supera el costo actual de su ejecución."
      ],
      "metadata": {
        "id": "AQnmy6rerv7m"
      }
    },
    {
      "cell_type": "markdown",
      "source": [
        "**Fórmula.**\n",
        "\n",
        "$$VPN= \\sum_{t-0}^{n}\\frac{F_t}{(1+r)^t}-c_0$$\n",
        "\n",
        "\n",
        "\n",
        "\n",
        "\n",
        "\n",
        "* $F_t$= Es el flujo de caja en el periodo t\n",
        "* r= Es la tasa de descuento\n",
        "* t= Es el número de periodos\n",
        "* $C_o$= Es la inversión inicial\n",
        "\n",
        "\n",
        "\n"
      ],
      "metadata": {
        "id": "lab4xSHmr9MM"
      }
    },
    {
      "cell_type": "markdown",
      "source": [
        " Una empresa está considerando un proyecto con una inversión inicial de 10,000 y espera recibir flujos de caja de $3,000 en cada uno de los próximos tres años. La tasa de descuento es del 5%."
      ],
      "metadata": {
        "id": "K7E-_uQ30Avl"
      }
    },
    {
      "cell_type": "code",
      "source": [
        "Inversión_inicial= 10000\n",
        "Flujo_año_1= 3000\n",
        "Flujo_año_2= 3000\n",
        "Flujo_año_3= 3000\n",
        "Tasa_descuento= 0.05"
      ],
      "metadata": {
        "id": "L6R_uV9R0eb_"
      },
      "execution_count": null,
      "outputs": []
    },
    {
      "cell_type": "code",
      "source": [
        "VPN = (Flujo_año_1 / (1 + Tasa_descuento)**1)+ \\\n",
        "(Flujo_año_2 / (1 + Tasa_descuento)**2)+ \\\n",
        "(Flujo_año_3 / (1 + Tasa_descuento)**3)- Inversión_inicial\n",
        "print(\" El valor presente neto (VPN) es:\", VPN)\n"
      ],
      "metadata": {
        "colab": {
          "base_uri": "https://localhost:8080/"
        },
        "id": "y_TZpqoE1SP5",
        "outputId": "15c1e096-0d4f-4e21-ae23-c9f7199c2565"
      },
      "execution_count": null,
      "outputs": [
        {
          "output_type": "stream",
          "name": "stdout",
          "text": [
            " El valor presente neto (VPN) es: -1830.2559118885656\n"
          ]
        }
      ]
    },
    {
      "cell_type": "code",
      "source": [
        "if VPN > 0:\n",
        "  print(\" El proyecto es viable, ya que el VPN es positivo.\")\n",
        "else:\n",
        "    print(\"El proyecto no es viable, ya que el VPN es negativo.\")"
      ],
      "metadata": {
        "colab": {
          "base_uri": "https://localhost:8080/"
        },
        "id": "R91RlZ334f2p",
        "outputId": "9aff9a0d-deae-47b4-f863-f3d5afa4a581"
      },
      "execution_count": null,
      "outputs": [
        {
          "output_type": "stream",
          "name": "stdout",
          "text": [
            "El proyecto no es viable, ya que el VPN es negativo.\n"
          ]
        }
      ]
    }
  ]
}