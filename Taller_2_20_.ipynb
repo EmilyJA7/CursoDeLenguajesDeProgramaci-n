{
  "nbformat": 4,
  "nbformat_minor": 0,
  "metadata": {
    "colab": {
      "provenance": [],
      "authorship_tag": "ABX9TyOoqJcED4C1gvdUfx4W84JQ",
      "include_colab_link": true
    },
    "kernelspec": {
      "name": "python3",
      "display_name": "Python 3"
    },
    "language_info": {
      "name": "python"
    }
  },
  "cells": [
    {
      "cell_type": "markdown",
      "metadata": {
        "id": "view-in-github",
        "colab_type": "text"
      },
      "source": [
        "<a href=\"https://colab.research.google.com/github/EmilyJA7/CursoDeLenguajesDeProgramaci-n/blob/main/Taller_2_20_.ipynb\" target=\"_parent\"><img src=\"https://colab.research.google.com/assets/colab-badge.svg\" alt=\"Open In Colab\"/></a>"
      ]
    },
    {
      "cell_type": "markdown",
      "source": [
        "## **Parte 1.**\n",
        "#Variables y listas."
      ],
      "metadata": {
        "id": "SWQxCAOo218z"
      }
    },
    {
      "cell_type": "code",
      "source": [
        "clientes = [\"Juan Perez\",\"Maria Rodriguez\",\"Carlos Lopez\",\"Ana Gomez\"]\n",
        "monto_invertido = [10000,15000,20000,18000]\n",
        "rendimientos = [5.5,6.0,4.0,7.5]\n",
        "print(type(clientes))\n",
        "print(type(monto_invertido))\n",
        "print(type(rendimientos))\n",
        "print(\"\\n\")\n",
        "returns = []\n",
        "for i in range(len(monto_invertido)):\n",
        "    returns.append(monto_invertido[i] * rendimientos[i] / 100)\n",
        "print(returns)"
      ],
      "metadata": {
        "colab": {
          "base_uri": "https://localhost:8080/"
        },
        "id": "epecqb8_AYVh",
        "outputId": "014a518b-5185-4ce2-b964-08b3b4043cce"
      },
      "execution_count": null,
      "outputs": [
        {
          "output_type": "stream",
          "name": "stdout",
          "text": [
            "<class 'list'>\n",
            "<class 'list'>\n",
            "<class 'list'>\n",
            "\n",
            "\n",
            "[550.0, 900.0, 800.0, 1350.0]\n"
          ]
        }
      ]
    },
    {
      "cell_type": "code",
      "source": [
        "cliente_1= (\"Juan Perez\",10000,5.5)\n",
        "cliente_2= (\"Maria Rodriguez\",15000,6.0)\n",
        "cliente_3= (\"Carlos Lopez\",20000,4.0)\n",
        "cliente_4= (\"Ana Gomez\",18000,7.5)\n",
        "print(type(cliente_1))\n",
        "print(type(cliente_2))\n",
        "print(type(cliente_3))\n",
        "print(type(cliente_4))\n",
        "print(\"\\n\")\n",
        "print(cliente_1,10000*5.5/100)\n",
        "print(cliente_2,15000*6.0/100)\n",
        "print(cliente_3,20000*4.0/100)\n",
        "print(cliente_4,18000*7.5/100)"
      ],
      "metadata": {
        "colab": {
          "base_uri": "https://localhost:8080/"
        },
        "id": "hEZJ8tKhFQS8",
        "outputId": "8b4c85ef-42ee-420c-e7b0-0e306396e6b0"
      },
      "execution_count": null,
      "outputs": [
        {
          "output_type": "stream",
          "name": "stdout",
          "text": [
            "<class 'tuple'>\n",
            "<class 'tuple'>\n",
            "<class 'tuple'>\n",
            "<class 'tuple'>\n",
            "\n",
            "\n",
            "('Juan Perez', 10000, 5.5) 550.0\n",
            "('Maria Rodriguez', 15000, 6.0) 900.0\n",
            "('Carlos Lopez', 20000, 4.0) 800.0\n",
            "('Ana Gomez', 18000, 7.5) 1350.0\n"
          ]
        }
      ]
    },
    {
      "cell_type": "code",
      "source": [
        "resultado = [(cliente_1[1] * cliente_1[2] / 100), (cliente_2[1] * cliente_2[2] / 100), (cliente_3[1] * cliente_3[2] / 100), (cliente_4[1] * cliente_4[2] / 100)]\n",
        "mensaje = (\"El rendimiento anual de {} es de {}\")\n",
        "print(mensaje.format(cliente_1[0], resultado[0]))\n",
        "print(mensaje.format(cliente_2[0], resultado[1]))\n",
        "print(mensaje.format(cliente_3[0], resultado[2]))\n",
        "print(mensaje.format(cliente_4[0], resultado[3]))\n"
      ],
      "metadata": {
        "colab": {
          "base_uri": "https://localhost:8080/"
        },
        "id": "PqHKeNxZIRl2",
        "outputId": "dbb8a3bb-386c-48ca-c18d-0b44023c6433"
      },
      "execution_count": null,
      "outputs": [
        {
          "output_type": "stream",
          "name": "stdout",
          "text": [
            "El rendimiento anual de Juan Perez es de 550.0\n",
            "El rendimiento anual de Maria Rodriguez es de 900.0\n",
            "El rendimiento anual de Carlos Lopez es de 800.0\n",
            "El rendimiento anual de Ana Gomez es de 1350.0\n"
          ]
        }
      ]
    },
    {
      "cell_type": "markdown",
      "source": [
        "# **Parte 2.**\n",
        "#Diccionario."
      ],
      "metadata": {
        "id": "MsdOxWMjM9mv"
      }
    },
    {
      "cell_type": "code",
      "source": [
        "portafolio = {\n",
        "    \"Juan Perez\": {\"monto_invertido\": 10000, \"rendimiento\":5.5},\n",
        "    \"Maria Rodriguez\": {\"monto_invertido\": 15000, \"rendimiento\":6.0},\n",
        "    \"Carlos Lopez\": {\"monto_invertido\": 20000, \"rendimiento\":4.0},\n",
        "    \"Ana Gomez\": {\"monto_invertido\": 18000, \"rendimiento\":7.5}\n",
        "}\n",
        "print(type(portafolio))\n",
        "print(portafolio)\n"
      ],
      "metadata": {
        "colab": {
          "base_uri": "https://localhost:8080/"
        },
        "id": "g_5wVSp0NGSt",
        "outputId": "e8f68c68-600f-4a5a-81f0-5c9ab12f7dc6"
      },
      "execution_count": null,
      "outputs": [
        {
          "output_type": "stream",
          "name": "stdout",
          "text": [
            "<class 'dict'>\n",
            "{'Juan Perez': {'monto_invertido': 10000, 'rendimiento': 5.5}, 'Maria Rodriguez': {'monto_invertido': 15000, 'rendimiento': 6.0}, 'Carlos Lopez': {'monto_invertido': 20000, 'rendimiento': 4.0}, 'Ana Gomez': {'monto_invertido': 18000, 'rendimiento': 7.5}}\n"
          ]
        }
      ]
    },
    {
      "cell_type": "code",
      "source": [
        "for cliente, datos in portafolio.items():\n",
        " if datos[\"rendimiento\"] > 5:\n",
        "  print(f\"{cliente} tiene un rendimiento de {datos['rendimiento']}%\")"
      ],
      "metadata": {
        "colab": {
          "base_uri": "https://localhost:8080/"
        },
        "id": "LObrK4JXPVmO",
        "outputId": "9361f471-595a-4676-84e2-b6e7877e5683"
      },
      "execution_count": null,
      "outputs": [
        {
          "output_type": "stream",
          "name": "stdout",
          "text": [
            "Juan Perez tiene un rendimiento de 5.5%\n",
            "Maria Rodriguez tiene un rendimiento de 6.0%\n",
            "Ana Gomez tiene un rendimiento de 7.5%\n"
          ]
        }
      ]
    },
    {
      "cell_type": "markdown",
      "source": [
        "# **Parte 3.**\n",
        "#Ciclos."
      ],
      "metadata": {
        "id": "za3Ax46HRZ0X"
      }
    },
    {
      "cell_type": "code",
      "source": [
        "rendimiento_total = 0\n",
        "for cliente, datos in portafolio.items():\n",
        " rendimiento_cliente = (datos[\"monto_invertido\"] * datos[\"rendimiento\"]) / 100\n",
        " rendimiento_total += rendimiento_cliente\n",
        "\n",
        "print(f\"El rendimiento total del portafolio es: ${rendimiento_total:.2f}\")"
      ],
      "metadata": {
        "colab": {
          "base_uri": "https://localhost:8080/"
        },
        "id": "Kt8SHfPC2BLN",
        "outputId": "f70ef18f-f416-4b39-9cef-61fdccdd2549"
      },
      "execution_count": null,
      "outputs": [
        {
          "output_type": "stream",
          "name": "stdout",
          "text": [
            "El rendimiento total del portafolio es: $3600.00\n"
          ]
        }
      ]
    },
    {
      "cell_type": "code",
      "source": [
        "cliente_mayor_rendimiento= None\n",
        "rendimiento_mayor =0\n",
        "for cliente, datos in portafolio.items():\n",
        " rendimiento_cliente = (datos[\"monto_invertido\"] * datos[\"rendimiento\"]) / 100\n",
        " if rendimiento_cliente > rendimiento_mayor:\n",
        "  rendimiento_mayor = rendimiento_cliente\n",
        "  cliente_mayor_rendimiento = cliente\n",
        "print(f\"El cliente con el mayor rendimiento absoluto en dólares es {cliente_mayor_rendimiento} con un rendimiento de: ${rendimiento_mayor:.2f}\")"
      ],
      "metadata": {
        "colab": {
          "base_uri": "https://localhost:8080/"
        },
        "id": "UEMB6VC93qiU",
        "outputId": "44f25bc9-c420-41a9-fb81-1020f4d07ea6"
      },
      "execution_count": null,
      "outputs": [
        {
          "output_type": "stream",
          "name": "stdout",
          "text": [
            "El cliente con el mayor rendimiento absoluto en dólares es Ana Gomez con un rendimiento de: $1350.00\n"
          ]
        }
      ]
    },
    {
      "cell_type": "markdown",
      "source": [
        "# **Parte 4.**\n",
        "#Modificaciones en el diccionario."
      ],
      "metadata": {
        "id": "ISgc7ZrQ67F5"
      }
    },
    {
      "cell_type": "code",
      "source": [
        "portafolio[\"Carlos Lopez\"][\"monto_invertido\"] = 25000\n",
        "print(\"El valor del monto invertido actualizado para Carlos Lopez es $25.000\")"
      ],
      "metadata": {
        "colab": {
          "base_uri": "https://localhost:8080/"
        },
        "id": "-8kLTtX-DF4b",
        "outputId": "82e810d3-46ce-4b2e-c427-1ae544a19b90"
      },
      "execution_count": null,
      "outputs": [
        {
          "output_type": "stream",
          "name": "stdout",
          "text": [
            "El valor del monto invertido actualizado para Carlos Lopez es $25.000\n"
          ]
        }
      ]
    },
    {
      "cell_type": "code",
      "source": [
        "portafolio[\"Laura Fernandez\"] ={\"monto_invertido\": 22000, \"rendimiento\": 6.8}\n",
        "print(\"Laura Fernandez ha sido agregada al portafolio con un monto invertido de $22.000 y un rendimiento de 6.8%\")"
      ],
      "metadata": {
        "colab": {
          "base_uri": "https://localhost:8080/"
        },
        "id": "Cs8Z09yzDnBA",
        "outputId": "fbbd76e3-d3b7-4be1-e81c-80d09b35f509"
      },
      "execution_count": null,
      "outputs": [
        {
          "output_type": "stream",
          "name": "stdout",
          "text": [
            "Laura Fernandez ha sido agregada al portafolio con un monto invertido de $22.000 y un rendimiento de 6.8%\n"
          ]
        }
      ]
    },
    {
      "cell_type": "code",
      "source": [
        "del portafolio[\"Ana Gomez\"]\n",
        "print(\"Ana Gomez se ha removido del portafolio\")"
      ],
      "metadata": {
        "colab": {
          "base_uri": "https://localhost:8080/"
        },
        "id": "cEAGsGJGFJ_2",
        "outputId": "46c35239-881e-4ad5-e64c-f24b0dc3d3a5"
      },
      "execution_count": null,
      "outputs": [
        {
          "output_type": "stream",
          "name": "stdout",
          "text": [
            "Ana Gomez se ha removido del portafolio\n"
          ]
        }
      ]
    },
    {
      "cell_type": "code",
      "source": [
        "print(\"El portafolio actualizado es:\")\n",
        "print(portafolio)"
      ],
      "metadata": {
        "colab": {
          "base_uri": "https://localhost:8080/"
        },
        "id": "zCJ29_ztGA2w",
        "outputId": "e01465ed-a990-46a0-fdb1-5ac3b614ad69"
      },
      "execution_count": null,
      "outputs": [
        {
          "output_type": "stream",
          "name": "stdout",
          "text": [
            "El portafolio actualizado es:\n",
            "{'Juan Perez': {'monto_invertido': 10000, 'rendimiento': 5.5}, 'Maria Rodriguez': {'monto_invertido': 15000, 'rendimiento': 6.0}, 'Carlos Lopez': {'monto_invertido': 25000, 'rendimiento': 4.0}, 'Laura Fernandez': {'monto_invertido': 22000, 'rendimiento': 6.8}}\n"
          ]
        }
      ]
    }
  ]
}