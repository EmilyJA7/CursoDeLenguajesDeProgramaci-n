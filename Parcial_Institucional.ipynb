{
  "nbformat": 4,
  "nbformat_minor": 0,
  "metadata": {
    "colab": {
      "provenance": [],
      "authorship_tag": "ABX9TyMouWmpyDmuimIuWHQPKMxd",
      "include_colab_link": true
    },
    "kernelspec": {
      "name": "python3",
      "display_name": "Python 3"
    },
    "language_info": {
      "name": "python"
    },
    "widgets": {
      "application/vnd.jupyter.widget-state+json": {
        "e78cbd57282641058c3de297de6117bf": {
          "model_module": "@jupyter-widgets/controls",
          "model_name": "ButtonModel",
          "model_module_version": "1.5.0",
          "state": {
            "_dom_classes": [],
            "_model_module": "@jupyter-widgets/controls",
            "_model_module_version": "1.5.0",
            "_model_name": "ButtonModel",
            "_view_count": null,
            "_view_module": "@jupyter-widgets/controls",
            "_view_module_version": "1.5.0",
            "_view_name": "ButtonView",
            "button_style": "",
            "description": "Ingresar cliente",
            "disabled": false,
            "icon": "",
            "layout": "IPY_MODEL_e5fe508e028940e58bed0f06dc9bac5b",
            "style": "IPY_MODEL_8b515fbb1a0741e7bcea37fec3cb00e5",
            "tooltip": ""
          }
        },
        "e5fe508e028940e58bed0f06dc9bac5b": {
          "model_module": "@jupyter-widgets/base",
          "model_name": "LayoutModel",
          "model_module_version": "1.2.0",
          "state": {
            "_model_module": "@jupyter-widgets/base",
            "_model_module_version": "1.2.0",
            "_model_name": "LayoutModel",
            "_view_count": null,
            "_view_module": "@jupyter-widgets/base",
            "_view_module_version": "1.2.0",
            "_view_name": "LayoutView",
            "align_content": null,
            "align_items": null,
            "align_self": null,
            "border": null,
            "bottom": null,
            "display": null,
            "flex": null,
            "flex_flow": null,
            "grid_area": null,
            "grid_auto_columns": null,
            "grid_auto_flow": null,
            "grid_auto_rows": null,
            "grid_column": null,
            "grid_gap": null,
            "grid_row": null,
            "grid_template_areas": null,
            "grid_template_columns": null,
            "grid_template_rows": null,
            "height": null,
            "justify_content": null,
            "justify_items": null,
            "left": null,
            "margin": null,
            "max_height": null,
            "max_width": null,
            "min_height": null,
            "min_width": null,
            "object_fit": null,
            "object_position": null,
            "order": null,
            "overflow": null,
            "overflow_x": null,
            "overflow_y": null,
            "padding": null,
            "right": null,
            "top": null,
            "visibility": null,
            "width": null
          }
        },
        "8b515fbb1a0741e7bcea37fec3cb00e5": {
          "model_module": "@jupyter-widgets/controls",
          "model_name": "ButtonStyleModel",
          "model_module_version": "1.5.0",
          "state": {
            "_model_module": "@jupyter-widgets/controls",
            "_model_module_version": "1.5.0",
            "_model_name": "ButtonStyleModel",
            "_view_count": null,
            "_view_module": "@jupyter-widgets/base",
            "_view_module_version": "1.2.0",
            "_view_name": "StyleView",
            "button_color": null,
            "font_weight": ""
          }
        },
        "8e41715df7d44447a7578d3140effddd": {
          "model_module": "@jupyter-widgets/controls",
          "model_name": "ButtonModel",
          "model_module_version": "1.5.0",
          "state": {
            "_dom_classes": [],
            "_model_module": "@jupyter-widgets/controls",
            "_model_module_version": "1.5.0",
            "_model_name": "ButtonModel",
            "_view_count": null,
            "_view_module": "@jupyter-widgets/controls",
            "_view_module_version": "1.5.0",
            "_view_name": "ButtonView",
            "button_style": "",
            "description": "Mostrar portafolio",
            "disabled": false,
            "icon": "",
            "layout": "IPY_MODEL_87c59c97fc634435b35731de697fc819",
            "style": "IPY_MODEL_6c9f042af65943a6818394bf55077547",
            "tooltip": ""
          }
        },
        "87c59c97fc634435b35731de697fc819": {
          "model_module": "@jupyter-widgets/base",
          "model_name": "LayoutModel",
          "model_module_version": "1.2.0",
          "state": {
            "_model_module": "@jupyter-widgets/base",
            "_model_module_version": "1.2.0",
            "_model_name": "LayoutModel",
            "_view_count": null,
            "_view_module": "@jupyter-widgets/base",
            "_view_module_version": "1.2.0",
            "_view_name": "LayoutView",
            "align_content": null,
            "align_items": null,
            "align_self": null,
            "border": null,
            "bottom": null,
            "display": null,
            "flex": null,
            "flex_flow": null,
            "grid_area": null,
            "grid_auto_columns": null,
            "grid_auto_flow": null,
            "grid_auto_rows": null,
            "grid_column": null,
            "grid_gap": null,
            "grid_row": null,
            "grid_template_areas": null,
            "grid_template_columns": null,
            "grid_template_rows": null,
            "height": null,
            "justify_content": null,
            "justify_items": null,
            "left": null,
            "margin": null,
            "max_height": null,
            "max_width": null,
            "min_height": null,
            "min_width": null,
            "object_fit": null,
            "object_position": null,
            "order": null,
            "overflow": null,
            "overflow_x": null,
            "overflow_y": null,
            "padding": null,
            "right": null,
            "top": null,
            "visibility": null,
            "width": null
          }
        },
        "6c9f042af65943a6818394bf55077547": {
          "model_module": "@jupyter-widgets/controls",
          "model_name": "ButtonStyleModel",
          "model_module_version": "1.5.0",
          "state": {
            "_model_module": "@jupyter-widgets/controls",
            "_model_module_version": "1.5.0",
            "_model_name": "ButtonStyleModel",
            "_view_count": null,
            "_view_module": "@jupyter-widgets/base",
            "_view_module_version": "1.2.0",
            "_view_name": "StyleView",
            "button_color": null,
            "font_weight": ""
          }
        },
        "32cebf4470cf437da0baf89dc2c9db7a": {
          "model_module": "@jupyter-widgets/controls",
          "model_name": "ButtonModel",
          "model_module_version": "1.5.0",
          "state": {
            "_dom_classes": [],
            "_model_module": "@jupyter-widgets/controls",
            "_model_module_version": "1.5.0",
            "_model_name": "ButtonModel",
            "_view_count": null,
            "_view_module": "@jupyter-widgets/controls",
            "_view_module_version": "1.5.0",
            "_view_name": "ButtonView",
            "button_style": "",
            "description": "Calcular rendimientor",
            "disabled": false,
            "icon": "",
            "layout": "IPY_MODEL_7dd58883bf3a4e2a81f58e6a9792ea02",
            "style": "IPY_MODEL_affb14439383446cb2b64dd38718f250",
            "tooltip": ""
          }
        },
        "7dd58883bf3a4e2a81f58e6a9792ea02": {
          "model_module": "@jupyter-widgets/base",
          "model_name": "LayoutModel",
          "model_module_version": "1.2.0",
          "state": {
            "_model_module": "@jupyter-widgets/base",
            "_model_module_version": "1.2.0",
            "_model_name": "LayoutModel",
            "_view_count": null,
            "_view_module": "@jupyter-widgets/base",
            "_view_module_version": "1.2.0",
            "_view_name": "LayoutView",
            "align_content": null,
            "align_items": null,
            "align_self": null,
            "border": null,
            "bottom": null,
            "display": null,
            "flex": null,
            "flex_flow": null,
            "grid_area": null,
            "grid_auto_columns": null,
            "grid_auto_flow": null,
            "grid_auto_rows": null,
            "grid_column": null,
            "grid_gap": null,
            "grid_row": null,
            "grid_template_areas": null,
            "grid_template_columns": null,
            "grid_template_rows": null,
            "height": null,
            "justify_content": null,
            "justify_items": null,
            "left": null,
            "margin": null,
            "max_height": null,
            "max_width": null,
            "min_height": null,
            "min_width": null,
            "object_fit": null,
            "object_position": null,
            "order": null,
            "overflow": null,
            "overflow_x": null,
            "overflow_y": null,
            "padding": null,
            "right": null,
            "top": null,
            "visibility": null,
            "width": null
          }
        },
        "affb14439383446cb2b64dd38718f250": {
          "model_module": "@jupyter-widgets/controls",
          "model_name": "ButtonStyleModel",
          "model_module_version": "1.5.0",
          "state": {
            "_model_module": "@jupyter-widgets/controls",
            "_model_module_version": "1.5.0",
            "_model_name": "ButtonStyleModel",
            "_view_count": null,
            "_view_module": "@jupyter-widgets/base",
            "_view_module_version": "1.2.0",
            "_view_name": "StyleView",
            "button_color": null,
            "font_weight": ""
          }
        },
        "d50fa2579af84d76b017b8af3f243ea2": {
          "model_module": "@jupyter-widgets/controls",
          "model_name": "ButtonModel",
          "model_module_version": "1.5.0",
          "state": {
            "_dom_classes": [],
            "_model_module": "@jupyter-widgets/controls",
            "_model_module_version": "1.5.0",
            "_model_name": "ButtonModel",
            "_view_count": null,
            "_view_module": "@jupyter-widgets/controls",
            "_view_module_version": "1.5.0",
            "_view_name": "ButtonView",
            "button_style": "",
            "description": "Salir",
            "disabled": false,
            "icon": "",
            "layout": "IPY_MODEL_10f1cee81860467bb046c0b32e4a249c",
            "style": "IPY_MODEL_acb23907ea0a4d46b7713835054e237e",
            "tooltip": ""
          }
        },
        "10f1cee81860467bb046c0b32e4a249c": {
          "model_module": "@jupyter-widgets/base",
          "model_name": "LayoutModel",
          "model_module_version": "1.2.0",
          "state": {
            "_model_module": "@jupyter-widgets/base",
            "_model_module_version": "1.2.0",
            "_model_name": "LayoutModel",
            "_view_count": null,
            "_view_module": "@jupyter-widgets/base",
            "_view_module_version": "1.2.0",
            "_view_name": "LayoutView",
            "align_content": null,
            "align_items": null,
            "align_self": null,
            "border": null,
            "bottom": null,
            "display": null,
            "flex": null,
            "flex_flow": null,
            "grid_area": null,
            "grid_auto_columns": null,
            "grid_auto_flow": null,
            "grid_auto_rows": null,
            "grid_column": null,
            "grid_gap": null,
            "grid_row": null,
            "grid_template_areas": null,
            "grid_template_columns": null,
            "grid_template_rows": null,
            "height": null,
            "justify_content": null,
            "justify_items": null,
            "left": null,
            "margin": null,
            "max_height": null,
            "max_width": null,
            "min_height": null,
            "min_width": null,
            "object_fit": null,
            "object_position": null,
            "order": null,
            "overflow": null,
            "overflow_x": null,
            "overflow_y": null,
            "padding": null,
            "right": null,
            "top": null,
            "visibility": null,
            "width": null
          }
        },
        "acb23907ea0a4d46b7713835054e237e": {
          "model_module": "@jupyter-widgets/controls",
          "model_name": "ButtonStyleModel",
          "model_module_version": "1.5.0",
          "state": {
            "_model_module": "@jupyter-widgets/controls",
            "_model_module_version": "1.5.0",
            "_model_name": "ButtonStyleModel",
            "_view_count": null,
            "_view_module": "@jupyter-widgets/base",
            "_view_module_version": "1.2.0",
            "_view_name": "StyleView",
            "button_color": null,
            "font_weight": ""
          }
        },
        "fddb45b77a0a4e23a7f31a996c414b17": {
          "model_module": "@jupyter-widgets/controls",
          "model_name": "TextModel",
          "model_module_version": "1.5.0",
          "state": {
            "_dom_classes": [],
            "_model_module": "@jupyter-widgets/controls",
            "_model_module_version": "1.5.0",
            "_model_name": "TextModel",
            "_view_count": null,
            "_view_module": "@jupyter-widgets/controls",
            "_view_module_version": "1.5.0",
            "_view_name": "TextView",
            "continuous_update": true,
            "description": "",
            "description_tooltip": null,
            "disabled": false,
            "layout": "IPY_MODEL_eff4adb2a53a41bbbfa2f8a5c5195b58",
            "placeholder": "Ingresa el Nombre",
            "style": "IPY_MODEL_33672b85ed2744f6af6ab5b1fb99fda8",
            "value": ""
          }
        },
        "eff4adb2a53a41bbbfa2f8a5c5195b58": {
          "model_module": "@jupyter-widgets/base",
          "model_name": "LayoutModel",
          "model_module_version": "1.2.0",
          "state": {
            "_model_module": "@jupyter-widgets/base",
            "_model_module_version": "1.2.0",
            "_model_name": "LayoutModel",
            "_view_count": null,
            "_view_module": "@jupyter-widgets/base",
            "_view_module_version": "1.2.0",
            "_view_name": "LayoutView",
            "align_content": null,
            "align_items": null,
            "align_self": null,
            "border": null,
            "bottom": null,
            "display": null,
            "flex": null,
            "flex_flow": null,
            "grid_area": null,
            "grid_auto_columns": null,
            "grid_auto_flow": null,
            "grid_auto_rows": null,
            "grid_column": null,
            "grid_gap": null,
            "grid_row": null,
            "grid_template_areas": null,
            "grid_template_columns": null,
            "grid_template_rows": null,
            "height": null,
            "justify_content": null,
            "justify_items": null,
            "left": null,
            "margin": null,
            "max_height": null,
            "max_width": null,
            "min_height": null,
            "min_width": null,
            "object_fit": null,
            "object_position": null,
            "order": null,
            "overflow": null,
            "overflow_x": null,
            "overflow_y": null,
            "padding": null,
            "right": null,
            "top": null,
            "visibility": null,
            "width": null
          }
        },
        "33672b85ed2744f6af6ab5b1fb99fda8": {
          "model_module": "@jupyter-widgets/controls",
          "model_name": "DescriptionStyleModel",
          "model_module_version": "1.5.0",
          "state": {
            "_model_module": "@jupyter-widgets/controls",
            "_model_module_version": "1.5.0",
            "_model_name": "DescriptionStyleModel",
            "_view_count": null,
            "_view_module": "@jupyter-widgets/base",
            "_view_module_version": "1.2.0",
            "_view_name": "StyleView",
            "description_width": ""
          }
        },
        "7310c78990aa42fba36e30a39a77423e": {
          "model_module": "@jupyter-widgets/controls",
          "model_name": "FloatTextModel",
          "model_module_version": "1.5.0",
          "state": {
            "_dom_classes": [],
            "_model_module": "@jupyter-widgets/controls",
            "_model_module_version": "1.5.0",
            "_model_name": "FloatTextModel",
            "_view_count": null,
            "_view_module": "@jupyter-widgets/controls",
            "_view_module_version": "1.5.0",
            "_view_name": "FloatTextView",
            "continuous_update": false,
            "description": "",
            "description_tooltip": null,
            "disabled": false,
            "layout": "IPY_MODEL_95198c61698c499a85327b86bf7e89b4",
            "step": null,
            "style": "IPY_MODEL_586ff724cdf14df08ad8f865b6af62f0",
            "value": 0
          }
        },
        "95198c61698c499a85327b86bf7e89b4": {
          "model_module": "@jupyter-widgets/base",
          "model_name": "LayoutModel",
          "model_module_version": "1.2.0",
          "state": {
            "_model_module": "@jupyter-widgets/base",
            "_model_module_version": "1.2.0",
            "_model_name": "LayoutModel",
            "_view_count": null,
            "_view_module": "@jupyter-widgets/base",
            "_view_module_version": "1.2.0",
            "_view_name": "LayoutView",
            "align_content": null,
            "align_items": null,
            "align_self": null,
            "border": null,
            "bottom": null,
            "display": null,
            "flex": null,
            "flex_flow": null,
            "grid_area": null,
            "grid_auto_columns": null,
            "grid_auto_flow": null,
            "grid_auto_rows": null,
            "grid_column": null,
            "grid_gap": null,
            "grid_row": null,
            "grid_template_areas": null,
            "grid_template_columns": null,
            "grid_template_rows": null,
            "height": null,
            "justify_content": null,
            "justify_items": null,
            "left": null,
            "margin": null,
            "max_height": null,
            "max_width": null,
            "min_height": null,
            "min_width": null,
            "object_fit": null,
            "object_position": null,
            "order": null,
            "overflow": null,
            "overflow_x": null,
            "overflow_y": null,
            "padding": null,
            "right": null,
            "top": null,
            "visibility": null,
            "width": null
          }
        },
        "586ff724cdf14df08ad8f865b6af62f0": {
          "model_module": "@jupyter-widgets/controls",
          "model_name": "DescriptionStyleModel",
          "model_module_version": "1.5.0",
          "state": {
            "_model_module": "@jupyter-widgets/controls",
            "_model_module_version": "1.5.0",
            "_model_name": "DescriptionStyleModel",
            "_view_count": null,
            "_view_module": "@jupyter-widgets/base",
            "_view_module_version": "1.2.0",
            "_view_name": "StyleView",
            "description_width": ""
          }
        },
        "f9a470e42d2546ac975e8ac2ff75ae47": {
          "model_module": "@jupyter-widgets/controls",
          "model_name": "FloatTextModel",
          "model_module_version": "1.5.0",
          "state": {
            "_dom_classes": [],
            "_model_module": "@jupyter-widgets/controls",
            "_model_module_version": "1.5.0",
            "_model_name": "FloatTextModel",
            "_view_count": null,
            "_view_module": "@jupyter-widgets/controls",
            "_view_module_version": "1.5.0",
            "_view_name": "FloatTextView",
            "continuous_update": false,
            "description": "",
            "description_tooltip": null,
            "disabled": false,
            "layout": "IPY_MODEL_e7807e35c5fd4f9a9012067152bd51ee",
            "step": null,
            "style": "IPY_MODEL_ecd21eafe62e4b6fac109e473351a3ca",
            "value": 0
          }
        },
        "e7807e35c5fd4f9a9012067152bd51ee": {
          "model_module": "@jupyter-widgets/base",
          "model_name": "LayoutModel",
          "model_module_version": "1.2.0",
          "state": {
            "_model_module": "@jupyter-widgets/base",
            "_model_module_version": "1.2.0",
            "_model_name": "LayoutModel",
            "_view_count": null,
            "_view_module": "@jupyter-widgets/base",
            "_view_module_version": "1.2.0",
            "_view_name": "LayoutView",
            "align_content": null,
            "align_items": null,
            "align_self": null,
            "border": null,
            "bottom": null,
            "display": null,
            "flex": null,
            "flex_flow": null,
            "grid_area": null,
            "grid_auto_columns": null,
            "grid_auto_flow": null,
            "grid_auto_rows": null,
            "grid_column": null,
            "grid_gap": null,
            "grid_row": null,
            "grid_template_areas": null,
            "grid_template_columns": null,
            "grid_template_rows": null,
            "height": null,
            "justify_content": null,
            "justify_items": null,
            "left": null,
            "margin": null,
            "max_height": null,
            "max_width": null,
            "min_height": null,
            "min_width": null,
            "object_fit": null,
            "object_position": null,
            "order": null,
            "overflow": null,
            "overflow_x": null,
            "overflow_y": null,
            "padding": null,
            "right": null,
            "top": null,
            "visibility": null,
            "width": null
          }
        },
        "ecd21eafe62e4b6fac109e473351a3ca": {
          "model_module": "@jupyter-widgets/controls",
          "model_name": "DescriptionStyleModel",
          "model_module_version": "1.5.0",
          "state": {
            "_model_module": "@jupyter-widgets/controls",
            "_model_module_version": "1.5.0",
            "_model_name": "DescriptionStyleModel",
            "_view_count": null,
            "_view_module": "@jupyter-widgets/base",
            "_view_module_version": "1.2.0",
            "_view_name": "StyleView",
            "description_width": ""
          }
        },
        "11bce8b4b0f646daa3ed9ca1759437c4": {
          "model_module": "@jupyter-widgets/controls",
          "model_name": "ButtonModel",
          "model_module_version": "1.5.0",
          "state": {
            "_dom_classes": [],
            "_model_module": "@jupyter-widgets/controls",
            "_model_module_version": "1.5.0",
            "_model_name": "ButtonModel",
            "_view_count": null,
            "_view_module": "@jupyter-widgets/controls",
            "_view_module_version": "1.5.0",
            "_view_name": "ButtonView",
            "button_style": "",
            "description": "Guardar",
            "disabled": false,
            "icon": "",
            "layout": "IPY_MODEL_0864d2647eb04256a65e2710634cd766",
            "style": "IPY_MODEL_82995ef723b746b6aec68d958a2ddcd8",
            "tooltip": ""
          }
        },
        "0864d2647eb04256a65e2710634cd766": {
          "model_module": "@jupyter-widgets/base",
          "model_name": "LayoutModel",
          "model_module_version": "1.2.0",
          "state": {
            "_model_module": "@jupyter-widgets/base",
            "_model_module_version": "1.2.0",
            "_model_name": "LayoutModel",
            "_view_count": null,
            "_view_module": "@jupyter-widgets/base",
            "_view_module_version": "1.2.0",
            "_view_name": "LayoutView",
            "align_content": null,
            "align_items": null,
            "align_self": null,
            "border": null,
            "bottom": null,
            "display": null,
            "flex": null,
            "flex_flow": null,
            "grid_area": null,
            "grid_auto_columns": null,
            "grid_auto_flow": null,
            "grid_auto_rows": null,
            "grid_column": null,
            "grid_gap": null,
            "grid_row": null,
            "grid_template_areas": null,
            "grid_template_columns": null,
            "grid_template_rows": null,
            "height": null,
            "justify_content": null,
            "justify_items": null,
            "left": null,
            "margin": null,
            "max_height": null,
            "max_width": null,
            "min_height": null,
            "min_width": null,
            "object_fit": null,
            "object_position": null,
            "order": null,
            "overflow": null,
            "overflow_x": null,
            "overflow_y": null,
            "padding": null,
            "right": null,
            "top": null,
            "visibility": null,
            "width": null
          }
        },
        "82995ef723b746b6aec68d958a2ddcd8": {
          "model_module": "@jupyter-widgets/controls",
          "model_name": "ButtonStyleModel",
          "model_module_version": "1.5.0",
          "state": {
            "_model_module": "@jupyter-widgets/controls",
            "_model_module_version": "1.5.0",
            "_model_name": "ButtonStyleModel",
            "_view_count": null,
            "_view_module": "@jupyter-widgets/base",
            "_view_module_version": "1.2.0",
            "_view_name": "StyleView",
            "button_color": null,
            "font_weight": ""
          }
        },
        "655578f7488445fcb7be1fb8641b36be": {
          "model_module": "@jupyter-widgets/output",
          "model_name": "OutputModel",
          "model_module_version": "1.0.0",
          "state": {
            "_dom_classes": [],
            "_model_module": "@jupyter-widgets/output",
            "_model_module_version": "1.0.0",
            "_model_name": "OutputModel",
            "_view_count": null,
            "_view_module": "@jupyter-widgets/output",
            "_view_module_version": "1.0.0",
            "_view_name": "OutputView",
            "layout": "IPY_MODEL_f799533829c540f9b0958cc64d1cef15",
            "msg_id": "",
            "outputs": []
          }
        },
        "f799533829c540f9b0958cc64d1cef15": {
          "model_module": "@jupyter-widgets/base",
          "model_name": "LayoutModel",
          "model_module_version": "1.2.0",
          "state": {
            "_model_module": "@jupyter-widgets/base",
            "_model_module_version": "1.2.0",
            "_model_name": "LayoutModel",
            "_view_count": null,
            "_view_module": "@jupyter-widgets/base",
            "_view_module_version": "1.2.0",
            "_view_name": "LayoutView",
            "align_content": null,
            "align_items": null,
            "align_self": null,
            "border": null,
            "bottom": null,
            "display": null,
            "flex": null,
            "flex_flow": null,
            "grid_area": null,
            "grid_auto_columns": null,
            "grid_auto_flow": null,
            "grid_auto_rows": null,
            "grid_column": null,
            "grid_gap": null,
            "grid_row": null,
            "grid_template_areas": null,
            "grid_template_columns": null,
            "grid_template_rows": null,
            "height": null,
            "justify_content": null,
            "justify_items": null,
            "left": null,
            "margin": null,
            "max_height": null,
            "max_width": null,
            "min_height": null,
            "min_width": null,
            "object_fit": null,
            "object_position": null,
            "order": null,
            "overflow": null,
            "overflow_x": null,
            "overflow_y": null,
            "padding": null,
            "right": null,
            "top": null,
            "visibility": null,
            "width": null
          }
        },
        "04b5df034526421098cbf3f203306b6c": {
          "model_module": "@jupyter-widgets/controls",
          "model_name": "ButtonModel",
          "model_module_version": "1.5.0",
          "state": {
            "_dom_classes": [],
            "_model_module": "@jupyter-widgets/controls",
            "_model_module_version": "1.5.0",
            "_model_name": "ButtonModel",
            "_view_count": null,
            "_view_module": "@jupyter-widgets/controls",
            "_view_module_version": "1.5.0",
            "_view_name": "ButtonView",
            "button_style": "",
            "description": "Volver al menú",
            "disabled": false,
            "icon": "",
            "layout": "IPY_MODEL_072fdc3052e0408992e3e29da0f98c8e",
            "style": "IPY_MODEL_3813b25679784781b5bac2ddf505c34a",
            "tooltip": ""
          }
        },
        "072fdc3052e0408992e3e29da0f98c8e": {
          "model_module": "@jupyter-widgets/base",
          "model_name": "LayoutModel",
          "model_module_version": "1.2.0",
          "state": {
            "_model_module": "@jupyter-widgets/base",
            "_model_module_version": "1.2.0",
            "_model_name": "LayoutModel",
            "_view_count": null,
            "_view_module": "@jupyter-widgets/base",
            "_view_module_version": "1.2.0",
            "_view_name": "LayoutView",
            "align_content": null,
            "align_items": null,
            "align_self": null,
            "border": null,
            "bottom": null,
            "display": null,
            "flex": null,
            "flex_flow": null,
            "grid_area": null,
            "grid_auto_columns": null,
            "grid_auto_flow": null,
            "grid_auto_rows": null,
            "grid_column": null,
            "grid_gap": null,
            "grid_row": null,
            "grid_template_areas": null,
            "grid_template_columns": null,
            "grid_template_rows": null,
            "height": null,
            "justify_content": null,
            "justify_items": null,
            "left": null,
            "margin": null,
            "max_height": null,
            "max_width": null,
            "min_height": null,
            "min_width": null,
            "object_fit": null,
            "object_position": null,
            "order": null,
            "overflow": null,
            "overflow_x": null,
            "overflow_y": null,
            "padding": null,
            "right": null,
            "top": null,
            "visibility": null,
            "width": null
          }
        },
        "3813b25679784781b5bac2ddf505c34a": {
          "model_module": "@jupyter-widgets/controls",
          "model_name": "ButtonStyleModel",
          "model_module_version": "1.5.0",
          "state": {
            "_model_module": "@jupyter-widgets/controls",
            "_model_module_version": "1.5.0",
            "_model_name": "ButtonStyleModel",
            "_view_count": null,
            "_view_module": "@jupyter-widgets/base",
            "_view_module_version": "1.2.0",
            "_view_name": "StyleView",
            "button_color": null,
            "font_weight": ""
          }
        },
        "ce2a415733884ec7a2bbcd5d3581604b": {
          "model_module": "@jupyter-widgets/controls",
          "model_name": "ButtonModel",
          "model_module_version": "1.5.0",
          "state": {
            "_dom_classes": [],
            "_model_module": "@jupyter-widgets/controls",
            "_model_module_version": "1.5.0",
            "_model_name": "ButtonModel",
            "_view_count": null,
            "_view_module": "@jupyter-widgets/controls",
            "_view_module_version": "1.5.0",
            "_view_name": "ButtonView",
            "button_style": "",
            "description": "Ingresar Cliente",
            "disabled": false,
            "icon": "",
            "layout": "IPY_MODEL_e1eb2549c3534746af34dc45e61374fd",
            "style": "IPY_MODEL_b23eb0cb06564478820fcf2a1e0492b7",
            "tooltip": ""
          }
        },
        "e1eb2549c3534746af34dc45e61374fd": {
          "model_module": "@jupyter-widgets/base",
          "model_name": "LayoutModel",
          "model_module_version": "1.2.0",
          "state": {
            "_model_module": "@jupyter-widgets/base",
            "_model_module_version": "1.2.0",
            "_model_name": "LayoutModel",
            "_view_count": null,
            "_view_module": "@jupyter-widgets/base",
            "_view_module_version": "1.2.0",
            "_view_name": "LayoutView",
            "align_content": null,
            "align_items": null,
            "align_self": null,
            "border": null,
            "bottom": null,
            "display": null,
            "flex": null,
            "flex_flow": null,
            "grid_area": null,
            "grid_auto_columns": null,
            "grid_auto_flow": null,
            "grid_auto_rows": null,
            "grid_column": null,
            "grid_gap": null,
            "grid_row": null,
            "grid_template_areas": null,
            "grid_template_columns": null,
            "grid_template_rows": null,
            "height": null,
            "justify_content": null,
            "justify_items": null,
            "left": null,
            "margin": null,
            "max_height": null,
            "max_width": null,
            "min_height": null,
            "min_width": null,
            "object_fit": null,
            "object_position": null,
            "order": null,
            "overflow": null,
            "overflow_x": null,
            "overflow_y": null,
            "padding": null,
            "right": null,
            "top": null,
            "visibility": null,
            "width": null
          }
        },
        "b23eb0cb06564478820fcf2a1e0492b7": {
          "model_module": "@jupyter-widgets/controls",
          "model_name": "ButtonStyleModel",
          "model_module_version": "1.5.0",
          "state": {
            "_model_module": "@jupyter-widgets/controls",
            "_model_module_version": "1.5.0",
            "_model_name": "ButtonStyleModel",
            "_view_count": null,
            "_view_module": "@jupyter-widgets/base",
            "_view_module_version": "1.2.0",
            "_view_name": "StyleView",
            "button_color": null,
            "font_weight": ""
          }
        },
        "d3339dc6c9c549f79612bc029dd2f78a": {
          "model_module": "@jupyter-widgets/controls",
          "model_name": "ButtonModel",
          "model_module_version": "1.5.0",
          "state": {
            "_dom_classes": [],
            "_model_module": "@jupyter-widgets/controls",
            "_model_module_version": "1.5.0",
            "_model_name": "ButtonModel",
            "_view_count": null,
            "_view_module": "@jupyter-widgets/controls",
            "_view_module_version": "1.5.0",
            "_view_name": "ButtonView",
            "button_style": "",
            "description": "Mostrar Portafolio",
            "disabled": false,
            "icon": "",
            "layout": "IPY_MODEL_a736c016347946079cd62067b07d180b",
            "style": "IPY_MODEL_b884fbc1aef049e39b0dba8d23eada50",
            "tooltip": ""
          }
        },
        "a736c016347946079cd62067b07d180b": {
          "model_module": "@jupyter-widgets/base",
          "model_name": "LayoutModel",
          "model_module_version": "1.2.0",
          "state": {
            "_model_module": "@jupyter-widgets/base",
            "_model_module_version": "1.2.0",
            "_model_name": "LayoutModel",
            "_view_count": null,
            "_view_module": "@jupyter-widgets/base",
            "_view_module_version": "1.2.0",
            "_view_name": "LayoutView",
            "align_content": null,
            "align_items": null,
            "align_self": null,
            "border": null,
            "bottom": null,
            "display": null,
            "flex": null,
            "flex_flow": null,
            "grid_area": null,
            "grid_auto_columns": null,
            "grid_auto_flow": null,
            "grid_auto_rows": null,
            "grid_column": null,
            "grid_gap": null,
            "grid_row": null,
            "grid_template_areas": null,
            "grid_template_columns": null,
            "grid_template_rows": null,
            "height": null,
            "justify_content": null,
            "justify_items": null,
            "left": null,
            "margin": null,
            "max_height": null,
            "max_width": null,
            "min_height": null,
            "min_width": null,
            "object_fit": null,
            "object_position": null,
            "order": null,
            "overflow": null,
            "overflow_x": null,
            "overflow_y": null,
            "padding": null,
            "right": null,
            "top": null,
            "visibility": null,
            "width": null
          }
        },
        "b884fbc1aef049e39b0dba8d23eada50": {
          "model_module": "@jupyter-widgets/controls",
          "model_name": "ButtonStyleModel",
          "model_module_version": "1.5.0",
          "state": {
            "_model_module": "@jupyter-widgets/controls",
            "_model_module_version": "1.5.0",
            "_model_name": "ButtonStyleModel",
            "_view_count": null,
            "_view_module": "@jupyter-widgets/base",
            "_view_module_version": "1.2.0",
            "_view_name": "StyleView",
            "button_color": null,
            "font_weight": ""
          }
        },
        "89ee1a5749e24d7aa7914ccf89401edd": {
          "model_module": "@jupyter-widgets/controls",
          "model_name": "ButtonModel",
          "model_module_version": "1.5.0",
          "state": {
            "_dom_classes": [],
            "_model_module": "@jupyter-widgets/controls",
            "_model_module_version": "1.5.0",
            "_model_name": "ButtonModel",
            "_view_count": null,
            "_view_module": "@jupyter-widgets/controls",
            "_view_module_version": "1.5.0",
            "_view_name": "ButtonView",
            "button_style": "",
            "description": "Calcular Rendimiento",
            "disabled": false,
            "icon": "",
            "layout": "IPY_MODEL_0c4b9fdbc5b54e1785ebf0f695292549",
            "style": "IPY_MODEL_1c6aca6c095341fc895513d4a363417a",
            "tooltip": ""
          }
        },
        "0c4b9fdbc5b54e1785ebf0f695292549": {
          "model_module": "@jupyter-widgets/base",
          "model_name": "LayoutModel",
          "model_module_version": "1.2.0",
          "state": {
            "_model_module": "@jupyter-widgets/base",
            "_model_module_version": "1.2.0",
            "_model_name": "LayoutModel",
            "_view_count": null,
            "_view_module": "@jupyter-widgets/base",
            "_view_module_version": "1.2.0",
            "_view_name": "LayoutView",
            "align_content": null,
            "align_items": null,
            "align_self": null,
            "border": null,
            "bottom": null,
            "display": null,
            "flex": null,
            "flex_flow": null,
            "grid_area": null,
            "grid_auto_columns": null,
            "grid_auto_flow": null,
            "grid_auto_rows": null,
            "grid_column": null,
            "grid_gap": null,
            "grid_row": null,
            "grid_template_areas": null,
            "grid_template_columns": null,
            "grid_template_rows": null,
            "height": null,
            "justify_content": null,
            "justify_items": null,
            "left": null,
            "margin": null,
            "max_height": null,
            "max_width": null,
            "min_height": null,
            "min_width": null,
            "object_fit": null,
            "object_position": null,
            "order": null,
            "overflow": null,
            "overflow_x": null,
            "overflow_y": null,
            "padding": null,
            "right": null,
            "top": null,
            "visibility": null,
            "width": null
          }
        },
        "1c6aca6c095341fc895513d4a363417a": {
          "model_module": "@jupyter-widgets/controls",
          "model_name": "ButtonStyleModel",
          "model_module_version": "1.5.0",
          "state": {
            "_model_module": "@jupyter-widgets/controls",
            "_model_module_version": "1.5.0",
            "_model_name": "ButtonStyleModel",
            "_view_count": null,
            "_view_module": "@jupyter-widgets/base",
            "_view_module_version": "1.2.0",
            "_view_name": "StyleView",
            "button_color": null,
            "font_weight": ""
          }
        },
        "c7468070691f4a6895f992e89f47d20f": {
          "model_module": "@jupyter-widgets/controls",
          "model_name": "ButtonModel",
          "model_module_version": "1.5.0",
          "state": {
            "_dom_classes": [],
            "_model_module": "@jupyter-widgets/controls",
            "_model_module_version": "1.5.0",
            "_model_name": "ButtonModel",
            "_view_count": null,
            "_view_module": "@jupyter-widgets/controls",
            "_view_module_version": "1.5.0",
            "_view_name": "ButtonView",
            "button_style": "",
            "description": "Salir",
            "disabled": false,
            "icon": "",
            "layout": "IPY_MODEL_028d0a52ecba4b7d8041b8bb628d2e51",
            "style": "IPY_MODEL_a96f35b8975b421fa843d4cec236cdb1",
            "tooltip": ""
          }
        },
        "028d0a52ecba4b7d8041b8bb628d2e51": {
          "model_module": "@jupyter-widgets/base",
          "model_name": "LayoutModel",
          "model_module_version": "1.2.0",
          "state": {
            "_model_module": "@jupyter-widgets/base",
            "_model_module_version": "1.2.0",
            "_model_name": "LayoutModel",
            "_view_count": null,
            "_view_module": "@jupyter-widgets/base",
            "_view_module_version": "1.2.0",
            "_view_name": "LayoutView",
            "align_content": null,
            "align_items": null,
            "align_self": null,
            "border": null,
            "bottom": null,
            "display": null,
            "flex": null,
            "flex_flow": null,
            "grid_area": null,
            "grid_auto_columns": null,
            "grid_auto_flow": null,
            "grid_auto_rows": null,
            "grid_column": null,
            "grid_gap": null,
            "grid_row": null,
            "grid_template_areas": null,
            "grid_template_columns": null,
            "grid_template_rows": null,
            "height": null,
            "justify_content": null,
            "justify_items": null,
            "left": null,
            "margin": null,
            "max_height": null,
            "max_width": null,
            "min_height": null,
            "min_width": null,
            "object_fit": null,
            "object_position": null,
            "order": null,
            "overflow": null,
            "overflow_x": null,
            "overflow_y": null,
            "padding": null,
            "right": null,
            "top": null,
            "visibility": null,
            "width": null
          }
        },
        "a96f35b8975b421fa843d4cec236cdb1": {
          "model_module": "@jupyter-widgets/controls",
          "model_name": "ButtonStyleModel",
          "model_module_version": "1.5.0",
          "state": {
            "_model_module": "@jupyter-widgets/controls",
            "_model_module_version": "1.5.0",
            "_model_name": "ButtonStyleModel",
            "_view_count": null,
            "_view_module": "@jupyter-widgets/base",
            "_view_module_version": "1.2.0",
            "_view_name": "StyleView",
            "button_color": null,
            "font_weight": ""
          }
        },
        "2f8b4a3830b84746a2f6fff3dec3f647": {
          "model_module": "@jupyter-widgets/controls",
          "model_name": "ButtonModel",
          "model_module_version": "1.5.0",
          "state": {
            "_dom_classes": [],
            "_model_module": "@jupyter-widgets/controls",
            "_model_module_version": "1.5.0",
            "_model_name": "ButtonModel",
            "_view_count": null,
            "_view_module": "@jupyter-widgets/controls",
            "_view_module_version": "1.5.0",
            "_view_name": "ButtonView",
            "button_style": "",
            "description": "Visualizar datos",
            "disabled": false,
            "icon": "",
            "layout": "IPY_MODEL_6325316ed70c4d94a55e60f75a445c1c",
            "style": "IPY_MODEL_d433107b09994ffaab53f14f56c7479c",
            "tooltip": ""
          }
        },
        "6325316ed70c4d94a55e60f75a445c1c": {
          "model_module": "@jupyter-widgets/base",
          "model_name": "LayoutModel",
          "model_module_version": "1.2.0",
          "state": {
            "_model_module": "@jupyter-widgets/base",
            "_model_module_version": "1.2.0",
            "_model_name": "LayoutModel",
            "_view_count": null,
            "_view_module": "@jupyter-widgets/base",
            "_view_module_version": "1.2.0",
            "_view_name": "LayoutView",
            "align_content": null,
            "align_items": null,
            "align_self": null,
            "border": null,
            "bottom": null,
            "display": null,
            "flex": null,
            "flex_flow": null,
            "grid_area": null,
            "grid_auto_columns": null,
            "grid_auto_flow": null,
            "grid_auto_rows": null,
            "grid_column": null,
            "grid_gap": null,
            "grid_row": null,
            "grid_template_areas": null,
            "grid_template_columns": null,
            "grid_template_rows": null,
            "height": null,
            "justify_content": null,
            "justify_items": null,
            "left": null,
            "margin": null,
            "max_height": null,
            "max_width": null,
            "min_height": null,
            "min_width": null,
            "object_fit": null,
            "object_position": null,
            "order": null,
            "overflow": null,
            "overflow_x": null,
            "overflow_y": null,
            "padding": null,
            "right": null,
            "top": null,
            "visibility": null,
            "width": null
          }
        },
        "d433107b09994ffaab53f14f56c7479c": {
          "model_module": "@jupyter-widgets/controls",
          "model_name": "ButtonStyleModel",
          "model_module_version": "1.5.0",
          "state": {
            "_model_module": "@jupyter-widgets/controls",
            "_model_module_version": "1.5.0",
            "_model_name": "ButtonStyleModel",
            "_view_count": null,
            "_view_module": "@jupyter-widgets/base",
            "_view_module_version": "1.2.0",
            "_view_name": "StyleView",
            "button_color": null,
            "font_weight": ""
          }
        },
        "442440a03b4d49d183c4b2998e86ee73": {
          "model_module": "@jupyter-widgets/controls",
          "model_name": "ButtonModel",
          "model_module_version": "1.5.0",
          "state": {
            "_dom_classes": [],
            "_model_module": "@jupyter-widgets/controls",
            "_model_module_version": "1.5.0",
            "_model_name": "ButtonModel",
            "_view_count": null,
            "_view_module": "@jupyter-widgets/controls",
            "_view_module_version": "1.5.0",
            "_view_name": "ButtonView",
            "button_style": "",
            "description": "Calcular VPN_TIR",
            "disabled": false,
            "icon": "",
            "layout": "IPY_MODEL_536029bee30a43ee9ae9c99c532bb3b8",
            "style": "IPY_MODEL_378cd821848a461fb162f0874a499dde",
            "tooltip": ""
          }
        },
        "536029bee30a43ee9ae9c99c532bb3b8": {
          "model_module": "@jupyter-widgets/base",
          "model_name": "LayoutModel",
          "model_module_version": "1.2.0",
          "state": {
            "_model_module": "@jupyter-widgets/base",
            "_model_module_version": "1.2.0",
            "_model_name": "LayoutModel",
            "_view_count": null,
            "_view_module": "@jupyter-widgets/base",
            "_view_module_version": "1.2.0",
            "_view_name": "LayoutView",
            "align_content": null,
            "align_items": null,
            "align_self": null,
            "border": null,
            "bottom": null,
            "display": null,
            "flex": null,
            "flex_flow": null,
            "grid_area": null,
            "grid_auto_columns": null,
            "grid_auto_flow": null,
            "grid_auto_rows": null,
            "grid_column": null,
            "grid_gap": null,
            "grid_row": null,
            "grid_template_areas": null,
            "grid_template_columns": null,
            "grid_template_rows": null,
            "height": null,
            "justify_content": null,
            "justify_items": null,
            "left": null,
            "margin": null,
            "max_height": null,
            "max_width": null,
            "min_height": null,
            "min_width": null,
            "object_fit": null,
            "object_position": null,
            "order": null,
            "overflow": null,
            "overflow_x": null,
            "overflow_y": null,
            "padding": null,
            "right": null,
            "top": null,
            "visibility": null,
            "width": null
          }
        },
        "378cd821848a461fb162f0874a499dde": {
          "model_module": "@jupyter-widgets/controls",
          "model_name": "ButtonStyleModel",
          "model_module_version": "1.5.0",
          "state": {
            "_model_module": "@jupyter-widgets/controls",
            "_model_module_version": "1.5.0",
            "_model_name": "ButtonStyleModel",
            "_view_count": null,
            "_view_module": "@jupyter-widgets/base",
            "_view_module_version": "1.2.0",
            "_view_name": "StyleView",
            "button_color": null,
            "font_weight": ""
          }
        },
        "47d9d20c182c4de2bafde5b7d98c3974": {
          "model_module": "@jupyter-widgets/controls",
          "model_name": "ButtonModel",
          "model_module_version": "1.5.0",
          "state": {
            "_dom_classes": [],
            "_model_module": "@jupyter-widgets/controls",
            "_model_module_version": "1.5.0",
            "_model_name": "ButtonModel",
            "_view_count": null,
            "_view_module": "@jupyter-widgets/controls",
            "_view_module_version": "1.5.0",
            "_view_name": "ButtonView",
            "button_style": "",
            "description": "Graficar resultados",
            "disabled": false,
            "icon": "",
            "layout": "IPY_MODEL_b22c5ffbf9514b28a9c35615dc8aae0d",
            "style": "IPY_MODEL_b126c4e2d03e4c27bf9ef726cb2a8271",
            "tooltip": ""
          }
        },
        "b22c5ffbf9514b28a9c35615dc8aae0d": {
          "model_module": "@jupyter-widgets/base",
          "model_name": "LayoutModel",
          "model_module_version": "1.2.0",
          "state": {
            "_model_module": "@jupyter-widgets/base",
            "_model_module_version": "1.2.0",
            "_model_name": "LayoutModel",
            "_view_count": null,
            "_view_module": "@jupyter-widgets/base",
            "_view_module_version": "1.2.0",
            "_view_name": "LayoutView",
            "align_content": null,
            "align_items": null,
            "align_self": null,
            "border": null,
            "bottom": null,
            "display": null,
            "flex": null,
            "flex_flow": null,
            "grid_area": null,
            "grid_auto_columns": null,
            "grid_auto_flow": null,
            "grid_auto_rows": null,
            "grid_column": null,
            "grid_gap": null,
            "grid_row": null,
            "grid_template_areas": null,
            "grid_template_columns": null,
            "grid_template_rows": null,
            "height": null,
            "justify_content": null,
            "justify_items": null,
            "left": null,
            "margin": null,
            "max_height": null,
            "max_width": null,
            "min_height": null,
            "min_width": null,
            "object_fit": null,
            "object_position": null,
            "order": null,
            "overflow": null,
            "overflow_x": null,
            "overflow_y": null,
            "padding": null,
            "right": null,
            "top": null,
            "visibility": null,
            "width": null
          }
        },
        "b126c4e2d03e4c27bf9ef726cb2a8271": {
          "model_module": "@jupyter-widgets/controls",
          "model_name": "ButtonStyleModel",
          "model_module_version": "1.5.0",
          "state": {
            "_model_module": "@jupyter-widgets/controls",
            "_model_module_version": "1.5.0",
            "_model_name": "ButtonStyleModel",
            "_view_count": null,
            "_view_module": "@jupyter-widgets/base",
            "_view_module_version": "1.2.0",
            "_view_name": "StyleView",
            "button_color": null,
            "font_weight": ""
          }
        },
        "0a6ba50aa3f944c7810b3abfafc9046c": {
          "model_module": "@jupyter-widgets/controls",
          "model_name": "ButtonModel",
          "model_module_version": "1.5.0",
          "state": {
            "_dom_classes": [],
            "_model_module": "@jupyter-widgets/controls",
            "_model_module_version": "1.5.0",
            "_model_name": "ButtonModel",
            "_view_count": null,
            "_view_module": "@jupyter-widgets/controls",
            "_view_module_version": "1.5.0",
            "_view_name": "ButtonView",
            "button_style": "",
            "description": "Salir",
            "disabled": false,
            "icon": "",
            "layout": "IPY_MODEL_2928e0ce34e948b28324cce493e18a94",
            "style": "IPY_MODEL_9c0308716ac5416bb14ab5f2e2476035",
            "tooltip": ""
          }
        },
        "2928e0ce34e948b28324cce493e18a94": {
          "model_module": "@jupyter-widgets/base",
          "model_name": "LayoutModel",
          "model_module_version": "1.2.0",
          "state": {
            "_model_module": "@jupyter-widgets/base",
            "_model_module_version": "1.2.0",
            "_model_name": "LayoutModel",
            "_view_count": null,
            "_view_module": "@jupyter-widgets/base",
            "_view_module_version": "1.2.0",
            "_view_name": "LayoutView",
            "align_content": null,
            "align_items": null,
            "align_self": null,
            "border": null,
            "bottom": null,
            "display": null,
            "flex": null,
            "flex_flow": null,
            "grid_area": null,
            "grid_auto_columns": null,
            "grid_auto_flow": null,
            "grid_auto_rows": null,
            "grid_column": null,
            "grid_gap": null,
            "grid_row": null,
            "grid_template_areas": null,
            "grid_template_columns": null,
            "grid_template_rows": null,
            "height": null,
            "justify_content": null,
            "justify_items": null,
            "left": null,
            "margin": null,
            "max_height": null,
            "max_width": null,
            "min_height": null,
            "min_width": null,
            "object_fit": null,
            "object_position": null,
            "order": null,
            "overflow": null,
            "overflow_x": null,
            "overflow_y": null,
            "padding": null,
            "right": null,
            "top": null,
            "visibility": null,
            "width": null
          }
        },
        "9c0308716ac5416bb14ab5f2e2476035": {
          "model_module": "@jupyter-widgets/controls",
          "model_name": "ButtonStyleModel",
          "model_module_version": "1.5.0",
          "state": {
            "_model_module": "@jupyter-widgets/controls",
            "_model_module_version": "1.5.0",
            "_model_name": "ButtonStyleModel",
            "_view_count": null,
            "_view_module": "@jupyter-widgets/base",
            "_view_module_version": "1.2.0",
            "_view_name": "StyleView",
            "button_color": null,
            "font_weight": ""
          }
        }
      }
    }
  },
  "cells": [
    {
      "cell_type": "markdown",
      "metadata": {
        "id": "view-in-github",
        "colab_type": "text"
      },
      "source": [
        "<a href=\"https://colab.research.google.com/github/EmilyJA7/CursoDeLenguajesDeProgramaci-n/blob/main/Parcial_Institucional.ipynb\" target=\"_parent\"><img src=\"https://colab.research.google.com/assets/colab-badge.svg\" alt=\"Open In Colab\"/></a>"
      ]
    },
    {
      "cell_type": "code",
      "execution_count": 1,
      "metadata": {
        "colab": {
          "base_uri": "https://localhost:8080/",
          "height": 162,
          "referenced_widgets": [
            "e78cbd57282641058c3de297de6117bf",
            "e5fe508e028940e58bed0f06dc9bac5b",
            "8b515fbb1a0741e7bcea37fec3cb00e5",
            "8e41715df7d44447a7578d3140effddd",
            "87c59c97fc634435b35731de697fc819",
            "6c9f042af65943a6818394bf55077547",
            "32cebf4470cf437da0baf89dc2c9db7a",
            "7dd58883bf3a4e2a81f58e6a9792ea02",
            "affb14439383446cb2b64dd38718f250",
            "d50fa2579af84d76b017b8af3f243ea2",
            "10f1cee81860467bb046c0b32e4a249c",
            "acb23907ea0a4d46b7713835054e237e"
          ]
        },
        "id": "S9Q3FfPZHJ9t",
        "outputId": "5c9b7a51-355f-46c5-8f12-f1b4eb775b9a"
      },
      "outputs": [
        {
          "output_type": "stream",
          "name": "stdout",
          "text": [
            "seleccionar una opción\n"
          ]
        },
        {
          "output_type": "display_data",
          "data": {
            "text/plain": [
              "Button(description='Ingresar cliente', style=ButtonStyle())"
            ],
            "application/vnd.jupyter.widget-view+json": {
              "version_major": 2,
              "version_minor": 0,
              "model_id": "e78cbd57282641058c3de297de6117bf"
            }
          },
          "metadata": {}
        },
        {
          "output_type": "display_data",
          "data": {
            "text/plain": [
              "Button(description='Mostrar portafolio', style=ButtonStyle())"
            ],
            "application/vnd.jupyter.widget-view+json": {
              "version_major": 2,
              "version_minor": 0,
              "model_id": "8e41715df7d44447a7578d3140effddd"
            }
          },
          "metadata": {}
        },
        {
          "output_type": "display_data",
          "data": {
            "text/plain": [
              "Button(description='Calcular rendimientor', style=ButtonStyle())"
            ],
            "application/vnd.jupyter.widget-view+json": {
              "version_major": 2,
              "version_minor": 0,
              "model_id": "32cebf4470cf437da0baf89dc2c9db7a"
            }
          },
          "metadata": {}
        },
        {
          "output_type": "display_data",
          "data": {
            "text/plain": [
              "Button(description='Salir', style=ButtonStyle())"
            ],
            "application/vnd.jupyter.widget-view+json": {
              "version_major": 2,
              "version_minor": 0,
              "model_id": "d50fa2579af84d76b017b8af3f243ea2"
            }
          },
          "metadata": {}
        }
      ],
      "source": [
        "import ipywidgets as widgets\n",
        "from IPython.display import display, clear_output\n",
        "\n",
        "# funcion para mostrar el menú interactivo con botones\n",
        "def display_menu():\n",
        "    clear_output()  # limpia la pantalla\n",
        "    print(\"seleccionar una opción\")\n",
        "\n",
        "    # crear los botones para cada acción dentro de la función\n",
        "    button_ingresar = widgets.Button(description=\"Ingresar cliente\")\n",
        "    button_mostrar = widgets.Button(description=\"Mostrar portafolio\")\n",
        "    button_calcular = widgets.Button(description=\"Calcular rendimientor\")\n",
        "    button_salir = widgets.Button(description=\"Salir\")\n",
        "\n",
        "    def on_button_ingresar_clicked(b):\n",
        "        print(\"ingresar cliente seleccionado\")\n",
        "\n",
        "    def on_button_mostrar_clicked(b):\n",
        "        print(\"mostrar portafolio seleccionado\")\n",
        "\n",
        "    def on_button_calcular_clicked(b):\n",
        "        print(\"calcular rendimiento seleccionado\")\n",
        "\n",
        "    def on_button_salir_clicked(b):\n",
        "        clear_output()\n",
        "        print(\"saliendo del programa.....\")\n",
        "\n",
        "    # Conectar cada boton con su respectiva función dentro de la función\n",
        "    button_ingresar.on_click(on_button_ingresar_clicked)\n",
        "    button_mostrar.on_click(on_button_mostrar_clicked)\n",
        "    button_calcular.on_click(on_button_calcular_clicked)\n",
        "    button_salir.on_click(on_button_salir_clicked)\n",
        "\n",
        "    # Mostrar los botones\n",
        "    display(button_ingresar, button_mostrar, button_calcular, button_salir)\n",
        "\n",
        "# Ejecutar el menú\n",
        "display_menu()"
      ]
    },
    {
      "cell_type": "code",
      "source": [
        "# Diccionario para almacenar los datos de los clientes\n",
        "portafolio = {}\n",
        "\n",
        "# Función para ingresar un cliente\n",
        "def ingresar_cliente():\n",
        "    clear_output() # Corrected indentation: added 4 spaces\n",
        "\n",
        "    # Widgets para ingresar datos\n",
        "    cliente= widgets.Text(descripction=\"cliente\", placeholder=\"Ingresa el Nombre\")\n",
        "    monto_invertido =widgets.FloatText(descripction=\"Monto Invertido\", value=0.0)\n",
        "    rendimiento_anual = widgets.FloatText(descripction=\"Rendimiento Anual (%)\", value=0.0)\n",
        "\n",
        "    # Boton para guardar información del cliente\n",
        "\n",
        "    button=widgets.Button(description=\"Guardar\")\n",
        "    output=widgets.Output()\n",
        "\n",
        "    # Función para guardar los datos en el diccionario\n",
        "    def on_button_clicked(b):\n",
        "        if cliente.value:\n",
        "            portafolio[cliente.value]={\n",
        "                \"Monto Invertido\": monto_invertido.value,\n",
        "                \"Rendimiento Anual\": rendimiento_anual.value\n",
        "            }\n",
        "            with output:\n",
        "                clear_output()\n",
        "                print(f\"Cliente {cliente.value} guardado en el portafolio.\")\n",
        "        else:\n",
        "            with output:\n",
        "                clear_output()\n",
        "                print(\"Por favor ingrese un nombre de cliente.\")\n",
        "    button.on_click(on_button_clicked)\n",
        "    display(cliente, monto_invertido, rendimiento_anual, button, output)\n",
        "\n",
        "# Ejecutar la función del cliente\n",
        "ingresar_cliente()"
      ],
      "metadata": {
        "colab": {
          "base_uri": "https://localhost:8080/",
          "height": 141,
          "referenced_widgets": [
            "fddb45b77a0a4e23a7f31a996c414b17",
            "eff4adb2a53a41bbbfa2f8a5c5195b58",
            "33672b85ed2744f6af6ab5b1fb99fda8",
            "7310c78990aa42fba36e30a39a77423e",
            "95198c61698c499a85327b86bf7e89b4",
            "586ff724cdf14df08ad8f865b6af62f0",
            "f9a470e42d2546ac975e8ac2ff75ae47",
            "e7807e35c5fd4f9a9012067152bd51ee",
            "ecd21eafe62e4b6fac109e473351a3ca",
            "11bce8b4b0f646daa3ed9ca1759437c4",
            "0864d2647eb04256a65e2710634cd766",
            "82995ef723b746b6aec68d958a2ddcd8",
            "655578f7488445fcb7be1fb8641b36be",
            "f799533829c540f9b0958cc64d1cef15"
          ]
        },
        "id": "DPr1_57AHXgW",
        "outputId": "a0154ba5-1958-420d-80fb-4eefba2f9505"
      },
      "execution_count": 2,
      "outputs": [
        {
          "output_type": "display_data",
          "data": {
            "text/plain": [
              "Text(value='', placeholder='Ingresa el Nombre')"
            ],
            "application/vnd.jupyter.widget-view+json": {
              "version_major": 2,
              "version_minor": 0,
              "model_id": "fddb45b77a0a4e23a7f31a996c414b17"
            }
          },
          "metadata": {}
        },
        {
          "output_type": "display_data",
          "data": {
            "text/plain": [
              "FloatText(value=0.0)"
            ],
            "application/vnd.jupyter.widget-view+json": {
              "version_major": 2,
              "version_minor": 0,
              "model_id": "7310c78990aa42fba36e30a39a77423e"
            }
          },
          "metadata": {}
        },
        {
          "output_type": "display_data",
          "data": {
            "text/plain": [
              "FloatText(value=0.0)"
            ],
            "application/vnd.jupyter.widget-view+json": {
              "version_major": 2,
              "version_minor": 0,
              "model_id": "f9a470e42d2546ac975e8ac2ff75ae47"
            }
          },
          "metadata": {}
        },
        {
          "output_type": "display_data",
          "data": {
            "text/plain": [
              "Button(description='Guardar', style=ButtonStyle())"
            ],
            "application/vnd.jupyter.widget-view+json": {
              "version_major": 2,
              "version_minor": 0,
              "model_id": "11bce8b4b0f646daa3ed9ca1759437c4"
            }
          },
          "metadata": {}
        },
        {
          "output_type": "display_data",
          "data": {
            "text/plain": [
              "Output()"
            ],
            "application/vnd.jupyter.widget-view+json": {
              "version_major": 2,
              "version_minor": 0,
              "model_id": "655578f7488445fcb7be1fb8641b36be"
            }
          },
          "metadata": {}
        }
      ]
    },
    {
      "cell_type": "code",
      "source": [
        "# Función de mostrar portafolio\n",
        "\n",
        "def mostrar_portafolio():\n",
        "    clear_output()\n",
        "    if portafolio:\n",
        "        print(\"Portafolio de Clientes\")\n",
        "        for cliente, datos in portafolio.items():\n",
        "            print(f\"Cliente: {cliente}\")\n",
        "            print(f\"Monto Invertido: {datos['Monto Invertido']}\")\n",
        "            print(f\"Rendimiento Anual: {datos['Rendimiento Anual']}%\")\n",
        "            print(\"-\"*30)\n",
        "    else:\n",
        "        print(\"El portafolio está vacío.\")\n",
        "# Ejecutar la función del portafolio\n",
        "mostrar_portafolio()"
      ],
      "metadata": {
        "colab": {
          "base_uri": "https://localhost:8080/"
        },
        "id": "qgEdS3YHHs1s",
        "outputId": "e940f099-5f6c-45b7-ff28-f8979d3b3a46"
      },
      "execution_count": 3,
      "outputs": [
        {
          "output_type": "stream",
          "name": "stdout",
          "text": [
            "El portafolio está vacío.\n"
          ]
        }
      ]
    },
    {
      "cell_type": "code",
      "source": [
        "# Calcular el rendimiento de un cliente\n",
        "def calcular_rendimiento():\n",
        "    clear_output()\n",
        "    if portafolio:\n",
        "        cliente_seleccionado = widgets.Dropdown(\n",
        "            options=list(portafolio.keys()), description=\"Seleccionar cliente\")\n",
        "        button_calcular = widgets.Button(description=\"Calcular Rendimiento\")\n",
        "        output = widgets.Output()\n",
        "\n",
        "        def on_button_calcular_clicked(b):\n",
        "          cliente = cliente_seleccionado.value\n",
        "          monto_invertido = portafolio[cliente][\"Monto Invertido\"]\n",
        "          rendimiento_anual = portafolio[cliente][\"Rendimiento Anual\"]\n",
        "          rendimiento = monto_invertido * (rendimiento_anual / 100)\n",
        "          with output:\n",
        "            clear_output()\n",
        "            print(f\" El rendimiento anual de {cliente} es: {rendimiento_anual:.2f}\")\n",
        "\n",
        "        button_calcular.on_click(on_button_calcular_clicked)\n",
        "\n",
        "        display(cliente_seleccionado, button_calcular, output)\n",
        "    else:\n",
        "        print(\"El portafolio está vacío. No se pueden calcular rendimientos.\")\n",
        "\n",
        "#Ejecutar la función del rendimiento\n",
        "\n",
        "calcular_rendimiento()"
      ],
      "metadata": {
        "colab": {
          "base_uri": "https://localhost:8080/"
        },
        "id": "XS_GBNF_H_QB",
        "outputId": "ec240015-2b47-4025-ebc9-f19ec208349c"
      },
      "execution_count": 4,
      "outputs": [
        {
          "output_type": "stream",
          "name": "stdout",
          "text": [
            "El portafolio está vacío. No se pueden calcular rendimientos.\n"
          ]
        }
      ]
    },
    {
      "cell_type": "code",
      "source": [
        "# Función para regresar al menú principal\n",
        "def regresar_menu():\n",
        "  button_volver = widgets.Button(description=\"Volver al menú\")\n",
        "\n",
        "  def on_button_clicked(b):\n",
        "    display_menu()\n",
        "\n",
        "\n",
        "  button_volver.on_click(on_button_clicked)\n",
        "  display(button_volver)\n",
        "\n",
        "regresar_menu()"
      ],
      "metadata": {
        "colab": {
          "base_uri": "https://localhost:8080/",
          "height": 49,
          "referenced_widgets": [
            "04b5df034526421098cbf3f203306b6c",
            "072fdc3052e0408992e3e29da0f98c8e",
            "3813b25679784781b5bac2ddf505c34a"
          ]
        },
        "id": "PZP4IMW_IEXv",
        "outputId": "cf2de9b4-de25-486c-cf9c-b1a60ec1be37"
      },
      "execution_count": 5,
      "outputs": [
        {
          "output_type": "display_data",
          "data": {
            "text/plain": [
              "Button(description='Volver al menú', style=ButtonStyle())"
            ],
            "application/vnd.jupyter.widget-view+json": {
              "version_major": 2,
              "version_minor": 0,
              "model_id": "04b5df034526421098cbf3f203306b6c"
            }
          },
          "metadata": {}
        }
      ]
    },
    {
      "cell_type": "code",
      "source": [
        "# Función para mostrar el menú interactivo con botones\n",
        "def mostrar_menu():\n",
        "  clear_output()\n",
        "  print(\"Selecciona una opción:\")\n",
        "\n",
        "  # Crear botones para cada opción\n",
        "  button_ingresar = widgets.Button(description=\"Ingresar Cliente\")\n",
        "  button_mostrar = widgets.Button(description=\"Mostrar Portafolio\")\n",
        "  button_calcular = widgets.Button(description=\"Calcular Rendimiento\")\n",
        "  button_salir = widgets.Button(description=\"Salir\")\n",
        "\n",
        "  # Conectar cada botón con su respectiva función\n",
        "  def on_button_ingresar_clicked(b):\n",
        "    ingresar_cliente()\n",
        "\n",
        "  def on_button_mostrar_clicked(b):\n",
        "    mostrar_portafolio()\n",
        "\n",
        "  def on_button_calcular_clicked(b):\n",
        "    calcular_rendimiento\n",
        "\n",
        "  def on_button_salir_clicked(b):\n",
        "    clear_output()\n",
        "    print(\"Saliendo del programa...\")\n",
        "\n",
        "\n",
        "  button_ingresar.on_click(on_button_ingresar_clicked)\n",
        "  button_mostrar.on_click(on_button_mostrar_clicked)\n",
        "  button_calcular.on_click(on_button_calcular_clicked)\n",
        "  button_salir.on_click(on_button_salir_clicked)\n",
        "\n",
        "  # Mostrar los botones\n",
        "  display(button_ingresar, button_mostrar, button_calcular, button_salir)\n",
        "\n",
        "# Mostrar el menú al inicio\n",
        "mostrar_menu()"
      ],
      "metadata": {
        "colab": {
          "base_uri": "https://localhost:8080/",
          "height": 162,
          "referenced_widgets": [
            "ce2a415733884ec7a2bbcd5d3581604b",
            "e1eb2549c3534746af34dc45e61374fd",
            "b23eb0cb06564478820fcf2a1e0492b7",
            "d3339dc6c9c549f79612bc029dd2f78a",
            "a736c016347946079cd62067b07d180b",
            "b884fbc1aef049e39b0dba8d23eada50",
            "89ee1a5749e24d7aa7914ccf89401edd",
            "0c4b9fdbc5b54e1785ebf0f695292549",
            "1c6aca6c095341fc895513d4a363417a",
            "c7468070691f4a6895f992e89f47d20f",
            "028d0a52ecba4b7d8041b8bb628d2e51",
            "a96f35b8975b421fa843d4cec236cdb1"
          ]
        },
        "id": "WhRj5qZbINQq",
        "outputId": "520d8c25-ad7c-41c9-9136-246b59c971d7"
      },
      "execution_count": 6,
      "outputs": [
        {
          "output_type": "stream",
          "name": "stdout",
          "text": [
            "Selecciona una opción:\n"
          ]
        },
        {
          "output_type": "display_data",
          "data": {
            "text/plain": [
              "Button(description='Ingresar Cliente', style=ButtonStyle())"
            ],
            "application/vnd.jupyter.widget-view+json": {
              "version_major": 2,
              "version_minor": 0,
              "model_id": "ce2a415733884ec7a2bbcd5d3581604b"
            }
          },
          "metadata": {}
        },
        {
          "output_type": "display_data",
          "data": {
            "text/plain": [
              "Button(description='Mostrar Portafolio', style=ButtonStyle())"
            ],
            "application/vnd.jupyter.widget-view+json": {
              "version_major": 2,
              "version_minor": 0,
              "model_id": "d3339dc6c9c549f79612bc029dd2f78a"
            }
          },
          "metadata": {}
        },
        {
          "output_type": "display_data",
          "data": {
            "text/plain": [
              "Button(description='Calcular Rendimiento', style=ButtonStyle())"
            ],
            "application/vnd.jupyter.widget-view+json": {
              "version_major": 2,
              "version_minor": 0,
              "model_id": "89ee1a5749e24d7aa7914ccf89401edd"
            }
          },
          "metadata": {}
        },
        {
          "output_type": "display_data",
          "data": {
            "text/plain": [
              "Button(description='Salir', style=ButtonStyle())"
            ],
            "application/vnd.jupyter.widget-view+json": {
              "version_major": 2,
              "version_minor": 0,
              "model_id": "c7468070691f4a6895f992e89f47d20f"
            }
          },
          "metadata": {}
        }
      ]
    },
    {
      "cell_type": "markdown",
      "source": [
        "# **EXAMEN INSTITUCIONAL.**"
      ],
      "metadata": {
        "id": "CdQzypIhZQVK"
      }
    },
    {
      "cell_type": "markdown",
      "source": [
        "**MENÚ INTERACTIVO.**"
      ],
      "metadata": {
        "id": "PKzWgkudZbJ2"
      }
    },
    {
      "cell_type": "code",
      "source": [
        "# Crear el menú interactivo.\n",
        "import ipywidgets as widgets\n",
        "from IPython.display import display, clear_output\n",
        "\n",
        "# funcion para mostrar el menú interactivo con botones.\n",
        "def display_menu_interactivo():\n",
        "    clear_output()  # limpia la pantalla\n",
        "    print(\"seleccionar una opción\")\n",
        "\n",
        "    # crear los botones para cada opción.\n",
        "    button_visualizar_datos = widgets.Button(description=\"Visualizar datos\")\n",
        "    button_calcular_VPN_TIR = widgets.Button(description=\"Calcular VPN_TIR\")\n",
        "    button_graficar_resultados = widgets.Button(description=\"Graficar resultados\")\n",
        "    button_salir = widgets.Button(description=\"Salir\")\n",
        "\n",
        "    def on_button_visualizar_datos_clicked(b):\n",
        "        print(\"Visualizacíon de datos seleccionado\")\n",
        "\n",
        "    def on_button_calcular_VPN_TIR_clicked(b):\n",
        "        print(\"calculo de dato seleccionado\")\n",
        "\n",
        "    def on_button_graficar_resultados_clicked(b):\n",
        "        print(\"Grafico de resultado seleccionado\")\n",
        "\n",
        "    def on_button_salir_clicked(b):\n",
        "        clear_output()\n",
        "        print(\"saliendo del programa.....\")\n",
        "\n",
        "    # Conectar cada boton con su respectiva función dentro de la función\n",
        "    button_visualizar_datos.on_click(on_button_visualizar_datos_clicked)\n",
        "    button_calcular_VPN_TIR.on_click(on_button_calcular_VPN_TIR_clicked)\n",
        "    button_graficar_resultados.on_click(on_button_graficar_resultados_clicked)\n",
        "    button_salir.on_click(on_button_salir_clicked)\n",
        "\n",
        "    # Mostrar los botones\n",
        "    display(button_visualizar_datos, button_calcular_VPN_TIR, button_graficar_resultados, button_salir)\n",
        "\n",
        "# Ejecutar el menú\n",
        "display_menu_interactivo()"
      ],
      "metadata": {
        "colab": {
          "base_uri": "https://localhost:8080/",
          "height": 162,
          "referenced_widgets": [
            "2f8b4a3830b84746a2f6fff3dec3f647",
            "6325316ed70c4d94a55e60f75a445c1c",
            "d433107b09994ffaab53f14f56c7479c",
            "442440a03b4d49d183c4b2998e86ee73",
            "536029bee30a43ee9ae9c99c532bb3b8",
            "378cd821848a461fb162f0874a499dde",
            "47d9d20c182c4de2bafde5b7d98c3974",
            "b22c5ffbf9514b28a9c35615dc8aae0d",
            "b126c4e2d03e4c27bf9ef726cb2a8271",
            "0a6ba50aa3f944c7810b3abfafc9046c",
            "2928e0ce34e948b28324cce493e18a94",
            "9c0308716ac5416bb14ab5f2e2476035"
          ]
        },
        "id": "-EqjX1HbZhnj",
        "outputId": "6903c131-c54d-418d-c8d8-423530a9461a"
      },
      "execution_count": 7,
      "outputs": [
        {
          "output_type": "stream",
          "name": "stdout",
          "text": [
            "seleccionar una opción\n"
          ]
        },
        {
          "output_type": "display_data",
          "data": {
            "text/plain": [
              "Button(description='Visualizar datos', style=ButtonStyle())"
            ],
            "application/vnd.jupyter.widget-view+json": {
              "version_major": 2,
              "version_minor": 0,
              "model_id": "2f8b4a3830b84746a2f6fff3dec3f647"
            }
          },
          "metadata": {}
        },
        {
          "output_type": "display_data",
          "data": {
            "text/plain": [
              "Button(description='Calcular VPN_TIR', style=ButtonStyle())"
            ],
            "application/vnd.jupyter.widget-view+json": {
              "version_major": 2,
              "version_minor": 0,
              "model_id": "442440a03b4d49d183c4b2998e86ee73"
            }
          },
          "metadata": {}
        },
        {
          "output_type": "display_data",
          "data": {
            "text/plain": [
              "Button(description='Graficar resultados', style=ButtonStyle())"
            ],
            "application/vnd.jupyter.widget-view+json": {
              "version_major": 2,
              "version_minor": 0,
              "model_id": "47d9d20c182c4de2bafde5b7d98c3974"
            }
          },
          "metadata": {}
        },
        {
          "output_type": "display_data",
          "data": {
            "text/plain": [
              "Button(description='Salir', style=ButtonStyle())"
            ],
            "application/vnd.jupyter.widget-view+json": {
              "version_major": 2,
              "version_minor": 0,
              "model_id": "0a6ba50aa3f944c7810b3abfafc9046c"
            }
          },
          "metadata": {}
        }
      ]
    },
    {
      "cell_type": "markdown",
      "source": [
        "**Cargar Datos desde el CSV.**"
      ],
      "metadata": {
        "id": "uzqFRBhHhS_e"
      }
    },
    {
      "cell_type": "code",
      "source": [
        "# importamos la libreria pandas\n",
        "# importamos la libreria pandas\n",
        "import pandas as pd\n",
        "# cargamos el archivo csv en un DataFrame, especificando la codificación\n",
        "DataFrameCSV = pd.read_csv('/content/Flujos_de_caja.csv', encoding='latin-1', sep=';')\n",
        "\n",
        "# mostramos las primeras filas del DataFrame\n",
        "DataFrameCSV.head()\n",
        "DataFrameCSV.head()"
      ],
      "metadata": {
        "colab": {
          "base_uri": "https://localhost:8080/",
          "height": 206
        },
        "id": "OvZrgCKaKxbm",
        "outputId": "2f6fc661-51aa-4718-bdfa-6021f6e2dd75"
      },
      "execution_count": 9,
      "outputs": [
        {
          "output_type": "execute_result",
          "data": {
            "text/plain": [
              "        Proyecto  Inversion_Inicial     Ao_1     Ao_2     Ao_3     Ao_4  \\\n",
              "0  Winston Smith          -85682867   5570451  16720657   7801445  18051670   \n",
              "1          Julia          -76755036   5967344   6490687  17913082   5955205   \n",
              "2        O'Brien          -76882282  16243667  18070601  16252748  15511699   \n",
              "3    Big Brother          -41081788   7412149  14311768  16953070   5966649   \n",
              "4    Don Quijote          -33315092  10398869  16991292  11839789  20617892   \n",
              "\n",
              "      Ao_5     Ao_6     Ao_7     Ao_8     Ao_9    Ao_10  \n",
              "0  15958457  12517201   5862839  20146580  19444292  24566746  \n",
              "1  17184923  24685303  20474106  17186651   9233384  13512686  \n",
              "2  20448040   5658139  15070853  13582851  17689154  18385842  \n",
              "3   8775702  24747640  22841583  19143933  18412066  12835958  \n",
              "4   9090284  20860467  22012114  17840143  20194144  10923808  "
            ],
            "text/html": [
              "\n",
              "  <div id=\"df-68831586-26e8-46f5-984d-83edde008ae8\" class=\"colab-df-container\">\n",
              "    <div>\n",
              "<style scoped>\n",
              "    .dataframe tbody tr th:only-of-type {\n",
              "        vertical-align: middle;\n",
              "    }\n",
              "\n",
              "    .dataframe tbody tr th {\n",
              "        vertical-align: top;\n",
              "    }\n",
              "\n",
              "    .dataframe thead th {\n",
              "        text-align: right;\n",
              "    }\n",
              "</style>\n",
              "<table border=\"1\" class=\"dataframe\">\n",
              "  <thead>\n",
              "    <tr style=\"text-align: right;\">\n",
              "      <th></th>\n",
              "      <th>Proyecto</th>\n",
              "      <th>Inversion_Inicial</th>\n",
              "      <th>Ao_1</th>\n",
              "      <th>Ao_2</th>\n",
              "      <th>Ao_3</th>\n",
              "      <th>Ao_4</th>\n",
              "      <th>Ao_5</th>\n",
              "      <th>Ao_6</th>\n",
              "      <th>Ao_7</th>\n",
              "      <th>Ao_8</th>\n",
              "      <th>Ao_9</th>\n",
              "      <th>Ao_10</th>\n",
              "    </tr>\n",
              "  </thead>\n",
              "  <tbody>\n",
              "    <tr>\n",
              "      <th>0</th>\n",
              "      <td>Winston Smith</td>\n",
              "      <td>-85682867</td>\n",
              "      <td>5570451</td>\n",
              "      <td>16720657</td>\n",
              "      <td>7801445</td>\n",
              "      <td>18051670</td>\n",
              "      <td>15958457</td>\n",
              "      <td>12517201</td>\n",
              "      <td>5862839</td>\n",
              "      <td>20146580</td>\n",
              "      <td>19444292</td>\n",
              "      <td>24566746</td>\n",
              "    </tr>\n",
              "    <tr>\n",
              "      <th>1</th>\n",
              "      <td>Julia</td>\n",
              "      <td>-76755036</td>\n",
              "      <td>5967344</td>\n",
              "      <td>6490687</td>\n",
              "      <td>17913082</td>\n",
              "      <td>5955205</td>\n",
              "      <td>17184923</td>\n",
              "      <td>24685303</td>\n",
              "      <td>20474106</td>\n",
              "      <td>17186651</td>\n",
              "      <td>9233384</td>\n",
              "      <td>13512686</td>\n",
              "    </tr>\n",
              "    <tr>\n",
              "      <th>2</th>\n",
              "      <td>O'Brien</td>\n",
              "      <td>-76882282</td>\n",
              "      <td>16243667</td>\n",
              "      <td>18070601</td>\n",
              "      <td>16252748</td>\n",
              "      <td>15511699</td>\n",
              "      <td>20448040</td>\n",
              "      <td>5658139</td>\n",
              "      <td>15070853</td>\n",
              "      <td>13582851</td>\n",
              "      <td>17689154</td>\n",
              "      <td>18385842</td>\n",
              "    </tr>\n",
              "    <tr>\n",
              "      <th>3</th>\n",
              "      <td>Big Brother</td>\n",
              "      <td>-41081788</td>\n",
              "      <td>7412149</td>\n",
              "      <td>14311768</td>\n",
              "      <td>16953070</td>\n",
              "      <td>5966649</td>\n",
              "      <td>8775702</td>\n",
              "      <td>24747640</td>\n",
              "      <td>22841583</td>\n",
              "      <td>19143933</td>\n",
              "      <td>18412066</td>\n",
              "      <td>12835958</td>\n",
              "    </tr>\n",
              "    <tr>\n",
              "      <th>4</th>\n",
              "      <td>Don Quijote</td>\n",
              "      <td>-33315092</td>\n",
              "      <td>10398869</td>\n",
              "      <td>16991292</td>\n",
              "      <td>11839789</td>\n",
              "      <td>20617892</td>\n",
              "      <td>9090284</td>\n",
              "      <td>20860467</td>\n",
              "      <td>22012114</td>\n",
              "      <td>17840143</td>\n",
              "      <td>20194144</td>\n",
              "      <td>10923808</td>\n",
              "    </tr>\n",
              "  </tbody>\n",
              "</table>\n",
              "</div>\n",
              "    <div class=\"colab-df-buttons\">\n",
              "\n",
              "  <div class=\"colab-df-container\">\n",
              "    <button class=\"colab-df-convert\" onclick=\"convertToInteractive('df-68831586-26e8-46f5-984d-83edde008ae8')\"\n",
              "            title=\"Convert this dataframe to an interactive table.\"\n",
              "            style=\"display:none;\">\n",
              "\n",
              "  <svg xmlns=\"http://www.w3.org/2000/svg\" height=\"24px\" viewBox=\"0 -960 960 960\">\n",
              "    <path d=\"M120-120v-720h720v720H120Zm60-500h600v-160H180v160Zm220 220h160v-160H400v160Zm0 220h160v-160H400v160ZM180-400h160v-160H180v160Zm440 0h160v-160H620v160ZM180-180h160v-160H180v160Zm440 0h160v-160H620v160Z\"/>\n",
              "  </svg>\n",
              "    </button>\n",
              "\n",
              "  <style>\n",
              "    .colab-df-container {\n",
              "      display:flex;\n",
              "      gap: 12px;\n",
              "    }\n",
              "\n",
              "    .colab-df-convert {\n",
              "      background-color: #E8F0FE;\n",
              "      border: none;\n",
              "      border-radius: 50%;\n",
              "      cursor: pointer;\n",
              "      display: none;\n",
              "      fill: #1967D2;\n",
              "      height: 32px;\n",
              "      padding: 0 0 0 0;\n",
              "      width: 32px;\n",
              "    }\n",
              "\n",
              "    .colab-df-convert:hover {\n",
              "      background-color: #E2EBFA;\n",
              "      box-shadow: 0px 1px 2px rgba(60, 64, 67, 0.3), 0px 1px 3px 1px rgba(60, 64, 67, 0.15);\n",
              "      fill: #174EA6;\n",
              "    }\n",
              "\n",
              "    .colab-df-buttons div {\n",
              "      margin-bottom: 4px;\n",
              "    }\n",
              "\n",
              "    [theme=dark] .colab-df-convert {\n",
              "      background-color: #3B4455;\n",
              "      fill: #D2E3FC;\n",
              "    }\n",
              "\n",
              "    [theme=dark] .colab-df-convert:hover {\n",
              "      background-color: #434B5C;\n",
              "      box-shadow: 0px 1px 3px 1px rgba(0, 0, 0, 0.15);\n",
              "      filter: drop-shadow(0px 1px 2px rgba(0, 0, 0, 0.3));\n",
              "      fill: #FFFFFF;\n",
              "    }\n",
              "  </style>\n",
              "\n",
              "    <script>\n",
              "      const buttonEl =\n",
              "        document.querySelector('#df-68831586-26e8-46f5-984d-83edde008ae8 button.colab-df-convert');\n",
              "      buttonEl.style.display =\n",
              "        google.colab.kernel.accessAllowed ? 'block' : 'none';\n",
              "\n",
              "      async function convertToInteractive(key) {\n",
              "        const element = document.querySelector('#df-68831586-26e8-46f5-984d-83edde008ae8');\n",
              "        const dataTable =\n",
              "          await google.colab.kernel.invokeFunction('convertToInteractive',\n",
              "                                                    [key], {});\n",
              "        if (!dataTable) return;\n",
              "\n",
              "        const docLinkHtml = 'Like what you see? Visit the ' +\n",
              "          '<a target=\"_blank\" href=https://colab.research.google.com/notebooks/data_table.ipynb>data table notebook</a>'\n",
              "          + ' to learn more about interactive tables.';\n",
              "        element.innerHTML = '';\n",
              "        dataTable['output_type'] = 'display_data';\n",
              "        await google.colab.output.renderOutput(dataTable, element);\n",
              "        const docLink = document.createElement('div');\n",
              "        docLink.innerHTML = docLinkHtml;\n",
              "        element.appendChild(docLink);\n",
              "      }\n",
              "    </script>\n",
              "  </div>\n",
              "\n",
              "\n",
              "    <div id=\"df-e05f4875-28cc-4404-ab90-b196b2748974\">\n",
              "      <button class=\"colab-df-quickchart\" onclick=\"quickchart('df-e05f4875-28cc-4404-ab90-b196b2748974')\"\n",
              "                title=\"Suggest charts\"\n",
              "                style=\"display:none;\">\n",
              "\n",
              "<svg xmlns=\"http://www.w3.org/2000/svg\" height=\"24px\"viewBox=\"0 0 24 24\"\n",
              "     width=\"24px\">\n",
              "    <g>\n",
              "        <path d=\"M19 3H5c-1.1 0-2 .9-2 2v14c0 1.1.9 2 2 2h14c1.1 0 2-.9 2-2V5c0-1.1-.9-2-2-2zM9 17H7v-7h2v7zm4 0h-2V7h2v10zm4 0h-2v-4h2v4z\"/>\n",
              "    </g>\n",
              "</svg>\n",
              "      </button>\n",
              "\n",
              "<style>\n",
              "  .colab-df-quickchart {\n",
              "      --bg-color: #E8F0FE;\n",
              "      --fill-color: #1967D2;\n",
              "      --hover-bg-color: #E2EBFA;\n",
              "      --hover-fill-color: #174EA6;\n",
              "      --disabled-fill-color: #AAA;\n",
              "      --disabled-bg-color: #DDD;\n",
              "  }\n",
              "\n",
              "  [theme=dark] .colab-df-quickchart {\n",
              "      --bg-color: #3B4455;\n",
              "      --fill-color: #D2E3FC;\n",
              "      --hover-bg-color: #434B5C;\n",
              "      --hover-fill-color: #FFFFFF;\n",
              "      --disabled-bg-color: #3B4455;\n",
              "      --disabled-fill-color: #666;\n",
              "  }\n",
              "\n",
              "  .colab-df-quickchart {\n",
              "    background-color: var(--bg-color);\n",
              "    border: none;\n",
              "    border-radius: 50%;\n",
              "    cursor: pointer;\n",
              "    display: none;\n",
              "    fill: var(--fill-color);\n",
              "    height: 32px;\n",
              "    padding: 0;\n",
              "    width: 32px;\n",
              "  }\n",
              "\n",
              "  .colab-df-quickchart:hover {\n",
              "    background-color: var(--hover-bg-color);\n",
              "    box-shadow: 0 1px 2px rgba(60, 64, 67, 0.3), 0 1px 3px 1px rgba(60, 64, 67, 0.15);\n",
              "    fill: var(--button-hover-fill-color);\n",
              "  }\n",
              "\n",
              "  .colab-df-quickchart-complete:disabled,\n",
              "  .colab-df-quickchart-complete:disabled:hover {\n",
              "    background-color: var(--disabled-bg-color);\n",
              "    fill: var(--disabled-fill-color);\n",
              "    box-shadow: none;\n",
              "  }\n",
              "\n",
              "  .colab-df-spinner {\n",
              "    border: 2px solid var(--fill-color);\n",
              "    border-color: transparent;\n",
              "    border-bottom-color: var(--fill-color);\n",
              "    animation:\n",
              "      spin 1s steps(1) infinite;\n",
              "  }\n",
              "\n",
              "  @keyframes spin {\n",
              "    0% {\n",
              "      border-color: transparent;\n",
              "      border-bottom-color: var(--fill-color);\n",
              "      border-left-color: var(--fill-color);\n",
              "    }\n",
              "    20% {\n",
              "      border-color: transparent;\n",
              "      border-left-color: var(--fill-color);\n",
              "      border-top-color: var(--fill-color);\n",
              "    }\n",
              "    30% {\n",
              "      border-color: transparent;\n",
              "      border-left-color: var(--fill-color);\n",
              "      border-top-color: var(--fill-color);\n",
              "      border-right-color: var(--fill-color);\n",
              "    }\n",
              "    40% {\n",
              "      border-color: transparent;\n",
              "      border-right-color: var(--fill-color);\n",
              "      border-top-color: var(--fill-color);\n",
              "    }\n",
              "    60% {\n",
              "      border-color: transparent;\n",
              "      border-right-color: var(--fill-color);\n",
              "    }\n",
              "    80% {\n",
              "      border-color: transparent;\n",
              "      border-right-color: var(--fill-color);\n",
              "      border-bottom-color: var(--fill-color);\n",
              "    }\n",
              "    90% {\n",
              "      border-color: transparent;\n",
              "      border-bottom-color: var(--fill-color);\n",
              "    }\n",
              "  }\n",
              "</style>\n",
              "\n",
              "      <script>\n",
              "        async function quickchart(key) {\n",
              "          const quickchartButtonEl =\n",
              "            document.querySelector('#' + key + ' button');\n",
              "          quickchartButtonEl.disabled = true;  // To prevent multiple clicks.\n",
              "          quickchartButtonEl.classList.add('colab-df-spinner');\n",
              "          try {\n",
              "            const charts = await google.colab.kernel.invokeFunction(\n",
              "                'suggestCharts', [key], {});\n",
              "          } catch (error) {\n",
              "            console.error('Error during call to suggestCharts:', error);\n",
              "          }\n",
              "          quickchartButtonEl.classList.remove('colab-df-spinner');\n",
              "          quickchartButtonEl.classList.add('colab-df-quickchart-complete');\n",
              "        }\n",
              "        (() => {\n",
              "          let quickchartButtonEl =\n",
              "            document.querySelector('#df-e05f4875-28cc-4404-ab90-b196b2748974 button');\n",
              "          quickchartButtonEl.style.display =\n",
              "            google.colab.kernel.accessAllowed ? 'block' : 'none';\n",
              "        })();\n",
              "      </script>\n",
              "    </div>\n",
              "\n",
              "    </div>\n",
              "  </div>\n"
            ],
            "application/vnd.google.colaboratory.intrinsic+json": {
              "type": "dataframe",
              "variable_name": "DataFrameCSV",
              "summary": "{\n  \"name\": \"DataFrameCSV\",\n  \"rows\": 1000,\n  \"fields\": [\n    {\n      \"column\": \"Proyecto\",\n      \"properties\": {\n        \"dtype\": \"string\",\n        \"num_unique_values\": 1000,\n        \"samples\": [\n          \"Tebaldo la Eterna el Sabio I\",\n          \"Alyosha Karam\\u00c3\\u00a1zov el Justo III\",\n          \"Lady Macbeth la Eterna\"\n        ],\n        \"semantic_type\": \"\",\n        \"description\": \"\"\n      }\n    },\n    {\n      \"column\": \"Inversion_Inicial\",\n      \"properties\": {\n        \"dtype\": \"number\",\n        \"std\": 23265390,\n        \"min\": -99945266,\n        \"max\": -20061087,\n        \"num_unique_values\": 1000,\n        \"samples\": [\n          -97273675,\n          -29818159,\n          -95191987\n        ],\n        \"semantic_type\": \"\",\n        \"description\": \"\"\n      }\n    },\n    {\n      \"column\": \"A\\u0096o_1\",\n      \"properties\": {\n        \"dtype\": \"number\",\n        \"std\": 5670897,\n        \"min\": 5076218,\n        \"max\": 24997497,\n        \"num_unique_values\": 1000,\n        \"samples\": [\n          7542637,\n          6276647,\n          10416775\n        ],\n        \"semantic_type\": \"\",\n        \"description\": \"\"\n      }\n    },\n    {\n      \"column\": \"A\\u0096o_2\",\n      \"properties\": {\n        \"dtype\": \"number\",\n        \"std\": 5730479,\n        \"min\": 5019675,\n        \"max\": 24992066,\n        \"num_unique_values\": 1000,\n        \"samples\": [\n          21001900,\n          24248594,\n          16951552\n        ],\n        \"semantic_type\": \"\",\n        \"description\": \"\"\n      }\n    },\n    {\n      \"column\": \"A\\u0096o_3\",\n      \"properties\": {\n        \"dtype\": \"number\",\n        \"std\": 5745627,\n        \"min\": 5004138,\n        \"max\": 24978294,\n        \"num_unique_values\": 1000,\n        \"samples\": [\n          13147047,\n          7980672,\n          19107226\n        ],\n        \"semantic_type\": \"\",\n        \"description\": \"\"\n      }\n    },\n    {\n      \"column\": \"A\\u0096o_4\",\n      \"properties\": {\n        \"dtype\": \"number\",\n        \"std\": 5854508,\n        \"min\": 5000917,\n        \"max\": 24998347,\n        \"num_unique_values\": 1000,\n        \"samples\": [\n          17315298,\n          5506995,\n          7072723\n        ],\n        \"semantic_type\": \"\",\n        \"description\": \"\"\n      }\n    },\n    {\n      \"column\": \"A\\u0096o_5\",\n      \"properties\": {\n        \"dtype\": \"number\",\n        \"std\": 5835083,\n        \"min\": 5006464,\n        \"max\": 24999234,\n        \"num_unique_values\": 1000,\n        \"samples\": [\n          13881111,\n          10167373,\n          23877542\n        ],\n        \"semantic_type\": \"\",\n        \"description\": \"\"\n      }\n    },\n    {\n      \"column\": \"A\\u0096o_6\",\n      \"properties\": {\n        \"dtype\": \"number\",\n        \"std\": 5823819,\n        \"min\": 5019156,\n        \"max\": 24977306,\n        \"num_unique_values\": 1000,\n        \"samples\": [\n          11774870,\n          17823529,\n          14976122\n        ],\n        \"semantic_type\": \"\",\n        \"description\": \"\"\n      }\n    },\n    {\n      \"column\": \"A\\u0096o_7\",\n      \"properties\": {\n        \"dtype\": \"number\",\n        \"std\": 5783289,\n        \"min\": 5004677,\n        \"max\": 24968535,\n        \"num_unique_values\": 1000,\n        \"samples\": [\n          6594362,\n          19588701,\n          5767128\n        ],\n        \"semantic_type\": \"\",\n        \"description\": \"\"\n      }\n    },\n    {\n      \"column\": \"A\\u0096o_8\",\n      \"properties\": {\n        \"dtype\": \"number\",\n        \"std\": 5863878,\n        \"min\": 5000037,\n        \"max\": 24948769,\n        \"num_unique_values\": 1000,\n        \"samples\": [\n          12556142,\n          24556276,\n          23935930\n        ],\n        \"semantic_type\": \"\",\n        \"description\": \"\"\n      }\n    },\n    {\n      \"column\": \"A\\u0096o_9\",\n      \"properties\": {\n        \"dtype\": \"number\",\n        \"std\": 5864704,\n        \"min\": 5029882,\n        \"max\": 24994412,\n        \"num_unique_values\": 1000,\n        \"samples\": [\n          20935238,\n          11586242,\n          12675862\n        ],\n        \"semantic_type\": \"\",\n        \"description\": \"\"\n      }\n    },\n    {\n      \"column\": \"A\\u0096o_10\",\n      \"properties\": {\n        \"dtype\": \"number\",\n        \"std\": 5829604,\n        \"min\": 5023382,\n        \"max\": 24989390,\n        \"num_unique_values\": 1000,\n        \"samples\": [\n          6697590,\n          8058321,\n          16326932\n        ],\n        \"semantic_type\": \"\",\n        \"description\": \"\"\n      }\n    }\n  ]\n}"
            }
          },
          "metadata": {},
          "execution_count": 9
        }
      ]
    },
    {
      "cell_type": "markdown",
      "source": [
        "**Limpieza y Preparación de los Datos.**\n"
      ],
      "metadata": {
        "id": "5C82D3DblU6s"
      }
    },
    {
      "cell_type": "code",
      "source": [
        "# Comprobamos si hay registros nulos\n",
        "DataFrameCSV.isnull().sum()"
      ],
      "metadata": {
        "colab": {
          "base_uri": "https://localhost:8080/",
          "height": 460
        },
        "id": "6CYJ56M2LhoI",
        "outputId": "5a494128-3a04-4790-ea77-6f09c9e47dae"
      },
      "execution_count": 11,
      "outputs": [
        {
          "output_type": "execute_result",
          "data": {
            "text/plain": [
              "Proyecto             0\n",
              "Inversion_Inicial    0\n",
              "Ao_1                0\n",
              "Ao_2                0\n",
              "Ao_3                0\n",
              "Ao_4                0\n",
              "Ao_5                0\n",
              "Ao_6                0\n",
              "Ao_7                0\n",
              "Ao_8                0\n",
              "Ao_9                0\n",
              "Ao_10               0\n",
              "dtype: int64"
            ],
            "text/html": [
              "<div>\n",
              "<style scoped>\n",
              "    .dataframe tbody tr th:only-of-type {\n",
              "        vertical-align: middle;\n",
              "    }\n",
              "\n",
              "    .dataframe tbody tr th {\n",
              "        vertical-align: top;\n",
              "    }\n",
              "\n",
              "    .dataframe thead th {\n",
              "        text-align: right;\n",
              "    }\n",
              "</style>\n",
              "<table border=\"1\" class=\"dataframe\">\n",
              "  <thead>\n",
              "    <tr style=\"text-align: right;\">\n",
              "      <th></th>\n",
              "      <th>0</th>\n",
              "    </tr>\n",
              "  </thead>\n",
              "  <tbody>\n",
              "    <tr>\n",
              "      <th>Proyecto</th>\n",
              "      <td>0</td>\n",
              "    </tr>\n",
              "    <tr>\n",
              "      <th>Inversion_Inicial</th>\n",
              "      <td>0</td>\n",
              "    </tr>\n",
              "    <tr>\n",
              "      <th>Ao_1</th>\n",
              "      <td>0</td>\n",
              "    </tr>\n",
              "    <tr>\n",
              "      <th>Ao_2</th>\n",
              "      <td>0</td>\n",
              "    </tr>\n",
              "    <tr>\n",
              "      <th>Ao_3</th>\n",
              "      <td>0</td>\n",
              "    </tr>\n",
              "    <tr>\n",
              "      <th>Ao_4</th>\n",
              "      <td>0</td>\n",
              "    </tr>\n",
              "    <tr>\n",
              "      <th>Ao_5</th>\n",
              "      <td>0</td>\n",
              "    </tr>\n",
              "    <tr>\n",
              "      <th>Ao_6</th>\n",
              "      <td>0</td>\n",
              "    </tr>\n",
              "    <tr>\n",
              "      <th>Ao_7</th>\n",
              "      <td>0</td>\n",
              "    </tr>\n",
              "    <tr>\n",
              "      <th>Ao_8</th>\n",
              "      <td>0</td>\n",
              "    </tr>\n",
              "    <tr>\n",
              "      <th>Ao_9</th>\n",
              "      <td>0</td>\n",
              "    </tr>\n",
              "    <tr>\n",
              "      <th>Ao_10</th>\n",
              "      <td>0</td>\n",
              "    </tr>\n",
              "  </tbody>\n",
              "</table>\n",
              "</div><br><label><b>dtype:</b> int64</label>"
            ]
          },
          "metadata": {},
          "execution_count": 11
        }
      ]
    },
    {
      "cell_type": "markdown",
      "source": [
        "**Cálculo del Valor Presente Neto (VPN).**"
      ],
      "metadata": {
        "id": "RvPIERLiLl0z"
      }
    },
    {
      "cell_type": "code",
      "source": [
        "!pip install numpy_financial"
      ],
      "metadata": {
        "colab": {
          "base_uri": "https://localhost:8080/"
        },
        "id": "YZgOmejALrUZ",
        "outputId": "3fe807ec-2514-4507-89c8-7e32b20d6711"
      },
      "execution_count": 12,
      "outputs": [
        {
          "output_type": "stream",
          "name": "stdout",
          "text": [
            "Collecting numpy_financial\n",
            "  Downloading numpy_financial-1.0.0-py3-none-any.whl.metadata (2.2 kB)\n",
            "Requirement already satisfied: numpy>=1.15 in /usr/local/lib/python3.11/dist-packages (from numpy_financial) (2.0.2)\n",
            "Downloading numpy_financial-1.0.0-py3-none-any.whl (14 kB)\n",
            "Installing collected packages: numpy_financial\n",
            "Successfully installed numpy_financial-1.0.0\n"
          ]
        }
      ]
    },
    {
      "cell_type": "code",
      "source": [
        "# importamos la libreria pandas\n",
        "import pandas as pd\n",
        "import numpy as np\n",
        "import numpy_financial as npf\n",
        "\n",
        "# Tasa de descuento\n",
        "tasa_descuento = 0.12  # 12%\n",
        "\n",
        "# Calcular el VPN\n",
        "def calcular_VPN(df, tasa_descuento):\n",
        "    VPN = []\n",
        "    for index in df.index:\n",
        "        fila = df.loc[index]\n",
        "        flujos_de_caja = [fila['Inversion_Inicial']] + fila.iloc[2:].astype(float).tolist()\n",
        "        valor_vpn = npf.npv(tasa_descuento, flujos_de_caja)\n",
        "        VPN.append(round(valor_vpn, 2))\n",
        "\n",
        "    df['VPN'] = VPN\n",
        "    return df\n",
        "\n",
        "df = DataFrameCSV\n",
        "df = calcular_VPN(df, tasa_descuento)\n",
        "\n",
        "print(\"El Valor Presente Neto de cada proyecto es de:\")\n",
        "print(df[['Proyecto', 'VPN']])"
      ],
      "metadata": {
        "colab": {
          "base_uri": "https://localhost:8080/"
        },
        "id": "7VmbsBaeXBy1",
        "outputId": "4e9428b1-e2d3-473b-8890-89f991fbeedf"
      },
      "execution_count": 75,
      "outputs": [
        {
          "output_type": "stream",
          "name": "stdout",
          "text": [
            "El Valor Presente Neto de cada proyecto es de:\n",
            "                                              Proyecto          VPN\n",
            "0                                        Winston Smith -13906602.75\n",
            "1                                                Julia  -5971762.37\n",
            "2                                              O'Brien  16414559.26\n",
            "3                                          Big Brother  53474407.92\n",
            "4                                          Don Quijote  75125023.83\n",
            "..                                                 ...          ...\n",
            "995  Alyosha KaramÃ¡zov el Sabio del Desierto III I...  86597608.45\n",
            "996  Alyosha KaramÃ¡zov el Sabio del Desierto III I...  27367882.19\n",
            "997              Odiseo el Sabio el Rojo el Sabio II I  26861929.18\n",
            "998                      Moriarty la Eterna el Rojo II  -2615820.48\n",
            "999            Amaranta III la Eterna el Rojo de Itaca  62525510.56\n",
            "\n",
            "[1000 rows x 2 columns]\n"
          ]
        }
      ]
    },
    {
      "cell_type": "markdown",
      "source": [
        "Cálculo de la Tasa Interna de Retorno (TIR):"
      ],
      "metadata": {
        "id": "s07YDAiQXXBb"
      }
    },
    {
      "cell_type": "code",
      "source": [
        "# Nombrar las columnas\n",
        "columnas_Proyecto = [\"Inversion_Inicial\", \"Flujo_1\", \"Flujo_2\", \"Flujo_3\", \"Flujo_4\", \"Flujo_5\", \"Flujo_6\", \"Flujo_7\", \"Flujo_8\", \"Flujo_9\", \"Flujo_10\"]\n",
        "\n",
        "# Calcular TIR para cada proyecto.\n",
        "def calcular_TIR(df):\n",
        "    TIR = []\n",
        "    for index in df.index:\n",
        "        fila = df.loc[index]\n",
        "        flujos_de_caja = [fila['Inversion_Inicial']] + fila.iloc[2:].astype(float).tolist()\n",
        "        try:\n",
        "            tir = npf.irr(flujos_de_caja)\n",
        "            TIR.append(round(tir * 100, 2))\n",
        "        except ValueError:\n",
        "            TIR.append(np.nan)\n",
        "    df['TIR'] = TIR\n",
        "    return df\n",
        "\n",
        "df = calcular_TIR(df)\n",
        "\n",
        "print(\"La Tasa Interna de Retorno de cada proyecto es de:\")\n",
        "print(df[['Proyecto', 'TIR']])\n"
      ],
      "metadata": {
        "colab": {
          "base_uri": "https://localhost:8080/"
        },
        "id": "FW75kqGnXYUM",
        "outputId": "9df382b2-ef66-4123-e49e-8711a4cb23ca"
      },
      "execution_count": 78,
      "outputs": [
        {
          "output_type": "stream",
          "name": "stdout",
          "text": [
            "La Tasa Interna de Retorno de cada proyecto es de:\n",
            "                                              Proyecto    TIR\n",
            "0                                        Winston Smith   8.35\n",
            "1                                                Julia  10.47\n",
            "2                                              O'Brien  17.03\n",
            "3                                          Big Brother  31.38\n",
            "4                                          Don Quijote  43.71\n",
            "..                                                 ...    ...\n",
            "995  Alyosha KaramÃ¡zov el Sabio del Desierto III I...  64.61\n",
            "996  Alyosha KaramÃ¡zov el Sabio del Desierto III I...  20.25\n",
            "997              Odiseo el Sabio el Rojo el Sabio II I  22.68\n",
            "998                      Moriarty la Eterna el Rojo II  11.38\n",
            "999            Amaranta III la Eterna el Rojo de Itaca  34.07\n",
            "\n",
            "[1000 rows x 2 columns]\n"
          ]
        }
      ]
    },
    {
      "cell_type": "markdown",
      "source": [
        "### Visualización de Resultados:"
      ],
      "metadata": {
        "id": "0Yku8wn1YIJO"
      }
    },
    {
      "cell_type": "code",
      "source": [
        "# Gráfica del VPN\n",
        "import matplotlib.pyplot as plt\n",
        "import numpy as np\n",
        "\n",
        "# Gráfico de distribucción\n",
        "plt.figure(figsize=(9, 5))\n",
        "plt.hist(df['VPN'], bins=50, color=\"teal\", edgecolor='black')\n",
        "plt.title(\"Distribucción Valor presente neto\")\n",
        "plt.xlabel(\"VPN de cada proyecto\")\n",
        "plt.ylabel(\"Número de proyectos\")\n",
        "plt.grid(True)\n",
        "plt.show()"
      ],
      "metadata": {
        "colab": {
          "base_uri": "https://localhost:8080/",
          "height": 488
        },
        "id": "0IQOQNUvYMcW",
        "outputId": "0f63af9e-64bd-4942-9751-dca1f3aa945e"
      },
      "execution_count": 84,
      "outputs": [
        {
          "output_type": "display_data",
          "data": {
            "text/plain": [
              "<Figure size 900x500 with 1 Axes>"
            ],
            "image/png": "[encoded data removed]"
          },
          "metadata": {}
        }
      ]
    },
    {
      "cell_type": "code",
      "source": [
        "# Grafica de la TIR\n",
        "import matplotlib.pyplot as plt\n",
        "import numpy as np\n",
        "\n",
        "# Gráfico de distribucción\n",
        "plt.figure(figsize=(9, 5))\n",
        "plt.hist(df['VPN'], bins=50, color=\"yellow\",edgecolor='black')\n",
        "plt.title(\"Distribucción Tasa interna de retorno\")\n",
        "plt.xlabel(\"TIR de cada proyecto\")\n",
        "plt.ylabel(\"Número de proyectos\")\n",
        "plt.grid(True)\n",
        "plt.show()"
      ],
      "metadata": {
        "colab": {
          "base_uri": "https://localhost:8080/",
          "height": 487
        },
        "id": "q9lb0hEKYVyt",
        "outputId": "4eb0aa60-4dce-4405-9b63-53d624a632a0"
      },
      "execution_count": 83,
      "outputs": [
        {
          "output_type": "display_data",
          "data": {
            "text/plain": [
              "<Figure size 900x500 with 1 Axes>"
            ],
            "image/png": "[encoded data removed]"
          },
          "metadata": {}
        }
      ]
    },
    {
      "cell_type": "markdown",
      "source": [
        "**Sustentación.**"
      ],
      "metadata": {
        "id": "9S35UJkDY0MB"
      }
    },
    {
      "cell_type": "markdown",
      "source": [
        "**¿Qué proyectos tienen un VPN positivo y son rentables?**"
      ],
      "metadata": {
        "id": "dY7lC367Y8UQ"
      }
    },
    {
      "cell_type": "code",
      "source": [
        "# Filtración de los proyectos\n",
        "proyectos_rentables = df[df['VPN'] > 0]\n",
        "\n",
        "# Mostrar los proyectos rentables\n",
        "print(\"Proyectos rentables:\")\n",
        "print(proyectos_rentables[['Proyecto', 'VPN']])"
      ],
      "metadata": {
        "colab": {
          "base_uri": "https://localhost:8080/"
        },
        "id": "vVpdEfPoY42n",
        "outputId": "a8d2654f-caaf-4b9f-b5cb-584d5d3c17a4"
      },
      "execution_count": 86,
      "outputs": [
        {
          "output_type": "stream",
          "name": "stdout",
          "text": [
            "Proyectos rentables:\n",
            "                                              Proyecto          VPN\n",
            "2                                              O'Brien  16414559.26\n",
            "3                                          Big Brother  53474407.92\n",
            "4                                          Don Quijote  75125023.83\n",
            "5                                         Sancho Panza  28667121.72\n",
            "6                                             Dulcinea  41291254.48\n",
            "..                                                 ...          ...\n",
            "994   Starbuck el Justo III de Troya de Troya de Itaca  44964051.61\n",
            "995  Alyosha KaramÃ¡zov el Sabio del Desierto III I...  86597608.45\n",
            "996  Alyosha KaramÃ¡zov el Sabio del Desierto III I...  27367882.19\n",
            "997              Odiseo el Sabio el Rojo el Sabio II I  26861929.18\n",
            "999            Amaranta III la Eterna el Rojo de Itaca  62525510.56\n",
            "\n",
            "[784 rows x 2 columns]\n"
          ]
        }
      ]
    },
    {
      "cell_type": "markdown",
      "source": [
        "* El VPN de los proyectos O'Brien, Big Brother, Don quijote, Sancho Panza y Dulcinea son positivos por tanto son los que tienen mayor rentabiliadad."
      ],
      "metadata": {
        "id": "OLSh_-Bga4cZ"
      }
    },
    {
      "cell_type": "code",
      "source": [
        "# Gráfico de barras\n",
        "import matplotlib.pyplot as plt\n",
        "import numpy as np\n",
        "plt.plot(proyectos_rentables['Proyecto'], proyectos_rentables['VPN'], marker='o', linestyle='-', color='blue')\n",
        "plt.xlabel(\"Proyecto\")\n",
        "plt.ylabel(\"VPN\")\n",
        "plt.title(\"VPN de Proyectos Rentables\")\n",
        "plt.xticks(rotation=10, ha='right')  # Rotar etiquetas del eje x para mejor legibilidad\n",
        "plt.tight_layout()  # Ajustar el diseño para evitar recortes\n",
        "plt.show()"
      ],
      "metadata": {
        "colab": {
          "base_uri": "https://localhost:8080/",
          "height": 521
        },
        "id": "pxQMuWU1Z7_s",
        "outputId": "91e2ee4f-5d82-43f6-841f-5fcf4dbdd6fa"
      },
      "execution_count": 90,
      "outputs": [
        {
          "output_type": "stream",
          "name": "stderr",
          "text": [
            "<ipython-input-90-0041bc188a46>:9: UserWarning: Glyph 154 (\\x9a) missing from font(s) DejaVu Sans.\n",
            "  plt.tight_layout()  # Ajustar el diseño para evitar recortes\n"
          ]
        },
        {
          "output_type": "display_data",
          "data": {
            "text/plain": [
              "<Figure size 640x480 with 1 Axes>"
            ],
            "image/png": "[encoded data removed]"
          },
          "metadata": {}
        }
      ]
    },
    {
      "cell_type": "markdown",
      "source": [
        "**¿Qué proyectos tienen una TIR mayor que la tasa de descuento?.**"
      ],
      "metadata": {
        "id": "lM2k5OQ0b-LK"
      }
    },
    {
      "cell_type": "code",
      "source": [
        "# Filtración de los proyectos\n",
        "# Tasa de descuento 12%\n",
        "tasa_descuento = 0.12\n",
        "proyectos_de_TIR_mayor = df[df['TIR'] > tasa_descuento]\n",
        "\n",
        "# Mostrar los proyectos con TIR mayor a la tasa de descuento\n",
        "print(\"Proyectos con TIR mayor a la tasa de descuento:\")\n",
        "print(proyectos_de_TIR_mayor[['Proyecto', 'TIR']])\n",
        "print(df['TIR'] > tasa_descuento)"
      ],
      "metadata": {
        "colab": {
          "base_uri": "https://localhost:8080/"
        },
        "id": "npT_cuHZkgrL",
        "outputId": "88dc3fd4-7d56-4c63-cb45-362174420a31"
      },
      "execution_count": 106,
      "outputs": [
        {
          "output_type": "stream",
          "name": "stdout",
          "text": [
            "Proyectos con TIR mayor a la tasa de descuento:\n",
            "                                              Proyecto    TIR\n",
            "0                                        Winston Smith   8.35\n",
            "1                                                Julia  10.47\n",
            "2                                              O'Brien  17.03\n",
            "3                                          Big Brother  31.38\n",
            "4                                          Don Quijote  43.71\n",
            "..                                                 ...    ...\n",
            "995  Alyosha KaramÃ¡zov el Sabio del Desierto III I...  64.61\n",
            "996  Alyosha KaramÃ¡zov el Sabio del Desierto III I...  20.25\n",
            "997              Odiseo el Sabio el Rojo el Sabio II I  22.68\n",
            "998                      Moriarty la Eterna el Rojo II  11.38\n",
            "999            Amaranta III la Eterna el Rojo de Itaca  34.07\n",
            "\n",
            "[974 rows x 2 columns]\n",
            "0      True\n",
            "1      True\n",
            "2      True\n",
            "3      True\n",
            "4      True\n",
            "       ... \n",
            "995    True\n",
            "996    True\n",
            "997    True\n",
            "998    True\n",
            "999    True\n",
            "Name: TIR, Length: 1000, dtype: bool\n"
          ]
        }
      ]
    },
    {
      "cell_type": "markdown",
      "source": [
        "* Sí la TIR es mayor a la tasa de descuento el proyecto es proyecto es rentable por que genera un rendimiento superior al minimo requerido, lo que lo convierte en una buena oportunidad de inversión."
      ],
      "metadata": {
        "id": "dPrOi2Vhmllv"
      }
    },
    {
      "cell_type": "code",
      "source": [
        "# Gráfico de barras\n",
        "import matplotlib.pyplot as plt\n",
        "import numpy as np\n",
        "plt.plot(proyectos_rentables['Proyecto'], proyectos_rentables['VPN'], marker='o', linestyle='-', color='red')\n",
        "plt.xlabel(\"Proyecto\")"
      ],
      "metadata": {
        "colab": {
          "base_uri": "https://localhost:8080/",
          "height": 483
        },
        "id": "GqVakG4xlvza",
        "outputId": "6c122d84-323c-41e8-f5b4-f673a2b3c87d"
      },
      "execution_count": 114,
      "outputs": [
        {
          "output_type": "execute_result",
          "data": {
            "text/plain": [
              "Text(0.5, 0, 'Proyecto')"
            ]
          },
          "metadata": {},
          "execution_count": 114
        },
        {
          "output_type": "display_data",
          "data": {
            "text/plain": [
              "<Figure size 640x480 with 1 Axes>"
            ],
            "image/png": "[encoded data removed]"
          },
          "metadata": {}
        }
      ]
    },
    {
      "cell_type": "markdown",
      "source": [
        "**¿Cómo se relacionan el VPN y la TIR con la toma de decisiones sobre proyectos de inversión?**"
      ],
      "metadata": {
        "id": "gJ-qEMBul5JF"
      }
    },
    {
      "cell_type": "markdown",
      "source": [
        "* Son herramientas fiancieras que ayudan a tomar la desición más acepatada, ya que evalua la visilidad y la rentabilidad de cada proyecto de inversión."
      ],
      "metadata": {
        "id": "asyfX55dl-FR"
      }
    }
  ]
}